{
 "cells": [
  {
   "cell_type": "markdown",
   "metadata": {
    "colab_type": "text",
    "id": "view-in-github"
   },
   "source": [
    "<a href=\"https://colab.research.google.com/github/skytreesea/PythonBasic/blob/master/06_%EB%B7%B0%ED%8B%B0%ED%92%80_%EC%88%98%ED%94%84%EC%99%80_%EC%85%80%EB%A0%88%EB%8B%88%EC%9B%80.ipynb\" target=\"_parent\"><img src=\"https://colab.research.google.com/assets/colab-badge.svg\" alt=\"Open In Colab\"/></a>"
   ]
  },
  {
   "cell_type": "markdown",
   "metadata": {
    "id": "YXqnw_9Ud8Yr"
   },
   "source": [
    "뷰티풀숲과 셀레니움\n",
    "뷰티풀수프와 셀레니움(BeautifulSoup and selenium)\n",
    "안녕하세요. '파이썬을 활용한 웹 크롤링 강좌' 맡고 있는 마스터 김창현입니다.<br>\n",
    "오늘은 1강에서 잠깐 소개드렸던 뷰티풀수프와 셀레니움 방식 접근방식을 각각 한번씩 보여드리려고 해요. \n",
    "지금 바로 시작해볼게요. \n",
    "먼저 개념을 잠깐 짚고 넘어갈게요.<br>\n",
    "    뷰티풀수프 방식은 웹페이지의 HTML을 요청받는 방법\n",
    "    셀레니움은 직접 사용자처럼 가상 브라우저를 통해 웹에 접근하는 방식\n",
    "이 말만으로는 잘 눈에 들어오지 않으시죠? 그럼 바로 한 번 실습을 들어가볼까요? \n",
    "\n",
    "\n",
    "\n",
    "\n",
    "\n"
   ]
  },
  {
   "cell_type": "code",
<<<<<<< HEAD
   "execution_count": 1,
   "metadata": {
    "id": "sA5KQdUTd18w"
   },
   "outputs": [
    {
     "name": "stdout",
     "output_type": "stream",
     "text": [
      "['상단영역 바로가기', '서비스 메뉴 바로가기', '새소식 블록 바로가기', '쇼핑 블록 바로가기', '관심사 블록 바로가기', 'MY 영역 바로가기', '위젯 보드 바로가기', '보기 설정 바로가기', '전체삭제', ' @txt@ ', '삭제', '도움말', '도움말', '도움말', '자동저장 끄기', '   @5@회 당첨번호  동행복권 제공     @6@@7@@8@@9@@10@@11@@12@   ', ' @14@  @txt@@currency@  @8@(@9@%)    @6@원  ', '   @txt@  @7@, @message@     @7@ @8@°   ', '   @txt@  @5@    바로가기  ', ' @txt@ ', '추가', ' @txt@ ', '추가', ' @query@ @intend@ ', '추가', '자세히보기', '관심사를 반영한 컨텍스트 자동완성도움말', '컨텍스트 자동완성', '자세히', '로그인', '자세히', '컨텍스트 자동완성 레이어 닫기', '도움말', '신고', '자동완성 끄기']\n"
     ]
    }
   ],
=======
   "execution_count": null,
   "metadata": {
    "id": "sA5KQdUTd18w"
   },
   "outputs": [],
>>>>>>> 80f8de8 (commit new ipynb files)
   "source": [
    "# 뷰티풀수프\n",
    "from bs4 import BeautifulSoup \n",
    "import requests\n",
    "url = 'https://www.naver.com/'\n",
    "req = requests.get(url)\n",
    "soup = BeautifulSoup(req.text)\n",
    "a_list = soup.find_all('a')\n",
    "print([i.text for i in a_list])\n"
   ]
  },
  {
   "cell_type": "markdown",
   "metadata": {
    "id": "ouIn7c4Sd2SL"
   },
   "source": [
    "앞부분은 이해하려고 하기 보다 그냥 매뉴얼(인터넷 검색)을 따라가서 설치하는 것이 빠르다. 명령어 하나 하나 다 이해하려면 시간이 너무 오래걸림. 빨리 앞 부분 세팅을 명확하게 해서 다음 흥미로운 동작을 익히는 것이 중요 "
   ]
  },
  {
   "cell_type": "code",
<<<<<<< HEAD
   "execution_count": 2,
   "metadata": {
    "id": "5ONkFhqdjbC5"
   },
   "outputs": [
    {
     "name": "stdout",
     "output_type": "stream",
     "text": [
      "Requirement already satisfied: Selenium in c:\\users\\skytr\\anaconda3\\lib\\site-packages (4.10.0)\n",
      "Requirement already satisfied: urllib3[socks]<3,>=1.26 in c:\\users\\skytr\\anaconda3\\lib\\site-packages (from Selenium) (1.26.14)\n",
      "Requirement already satisfied: trio~=0.17 in c:\\users\\skytr\\anaconda3\\lib\\site-packages (from Selenium) (0.22.2)\n",
      "Requirement already satisfied: certifi>=2021.10.8 in c:\\users\\skytr\\anaconda3\\lib\\site-packages (from Selenium) (2022.12.7)\n",
      "Requirement already satisfied: trio-websocket~=0.9 in c:\\users\\skytr\\anaconda3\\lib\\site-packages (from Selenium) (0.10.3)\n",
      "Requirement already satisfied: sortedcontainers in c:\\users\\skytr\\anaconda3\\lib\\site-packages (from trio~=0.17->Selenium) (2.4.0)\n",
      "Requirement already satisfied: sniffio in c:\\users\\skytr\\anaconda3\\lib\\site-packages (from trio~=0.17->Selenium) (1.2.0)\n",
      "Requirement already satisfied: cffi>=1.14 in c:\\users\\skytr\\anaconda3\\lib\\site-packages (from trio~=0.17->Selenium) (1.15.1)\n",
      "Requirement already satisfied: outcome in c:\\users\\skytr\\anaconda3\\lib\\site-packages (from trio~=0.17->Selenium) (1.2.0)\n",
      "Requirement already satisfied: exceptiongroup>=1.0.0rc9 in c:\\users\\skytr\\anaconda3\\lib\\site-packages (from trio~=0.17->Selenium) (1.1.2)\n",
      "Requirement already satisfied: idna in c:\\users\\skytr\\anaconda3\\lib\\site-packages (from trio~=0.17->Selenium) (2.10)\n",
      "Requirement already satisfied: attrs>=20.1.0 in c:\\users\\skytr\\anaconda3\\lib\\site-packages (from trio~=0.17->Selenium) (22.1.0)\n",
      "Requirement already satisfied: wsproto>=0.14 in c:\\users\\skytr\\anaconda3\\lib\\site-packages (from trio-websocket~=0.9->Selenium) (1.2.0)\n",
      "Requirement already satisfied: PySocks!=1.5.7,<2.0,>=1.5.6 in c:\\users\\skytr\\anaconda3\\lib\\site-packages (from urllib3[socks]<3,>=1.26->Selenium) (1.7.1)\n",
      "Requirement already satisfied: pycparser in c:\\users\\skytr\\anaconda3\\lib\\site-packages (from cffi>=1.14->trio~=0.17->Selenium) (2.21)\n",
      "Requirement already satisfied: h11<1,>=0.9.0 in c:\\users\\skytr\\anaconda3\\lib\\site-packages (from wsproto>=0.14->trio-websocket~=0.9->Selenium) (0.9.0)\n"
     ]
    },
    {
     "name": "stderr",
     "output_type": "stream",
     "text": [
      "'apt-get'은(는) 내부 또는 외부 명령, 실행할 수 있는 프로그램, 또는\n",
      "배치 파일이 아닙니다.\n",
      "'apt'은(는) 내부 또는 외부 명령, 실행할 수 있는 프로그램, 또는\n",
      "배치 파일이 아닙니다.\n"
     ]
    }
   ],
=======
   "execution_count": null,
   "metadata": {
    "id": "5ONkFhqdjbC5"
   },
   "outputs": [],
>>>>>>> 80f8de8 (commit new ipynb files)
   "source": [
    "#다운로드 받기 \n",
    "!pip install Selenium\n",
    "!apt-get update # 중요 업데이트가 일치하지 않으면 셀레니움 실행이 안될 수 있음 \n",
    "!apt install chromium-chromedriver"
   ]
  },
  {
   "cell_type": "code",
<<<<<<< HEAD
   "execution_count": 3,
   "metadata": {
    "id": "hT9crJzGl02_"
   },
   "outputs": [
    {
     "ename": "TypeError",
     "evalue": "WebDriver.__init__() got multiple values for argument 'options'",
     "output_type": "error",
     "traceback": [
      "\u001b[1;31m---------------------------------------------------------------------------\u001b[0m",
      "\u001b[1;31mTypeError\u001b[0m                                 Traceback (most recent call last)",
      "Cell \u001b[1;32mIn[3], line 8\u001b[0m\n\u001b[0;32m      6\u001b[0m options\u001b[38;5;241m.\u001b[39madd_argument(\u001b[38;5;124m'\u001b[39m\u001b[38;5;124m--disable-dev-shm-usage\u001b[39m\u001b[38;5;124m'\u001b[39m)\n\u001b[0;32m      7\u001b[0m \u001b[38;5;66;03m# open it, go to a website, and get results\u001b[39;00m\n\u001b[1;32m----> 8\u001b[0m driver \u001b[38;5;241m=\u001b[39m \u001b[43mwebdriver\u001b[49m\u001b[38;5;241;43m.\u001b[39;49m\u001b[43mChrome\u001b[49m\u001b[43m(\u001b[49m\u001b[38;5;124;43m'\u001b[39;49m\u001b[38;5;124;43mchromedriver\u001b[39;49m\u001b[38;5;124;43m'\u001b[39;49m\u001b[43m,\u001b[49m\u001b[43moptions\u001b[49m\u001b[38;5;241;43m=\u001b[39;49m\u001b[43moptions\u001b[49m\u001b[43m)\u001b[49m\n\u001b[0;32m      9\u001b[0m page \u001b[38;5;241m=\u001b[39m driver\u001b[38;5;241m.\u001b[39mget(url)\n\u001b[0;32m     10\u001b[0m \u001b[38;5;66;03m# 크롬에서는 실행되는 것이 눈에 보이지 않음\u001b[39;00m\n",
      "\u001b[1;31mTypeError\u001b[0m: WebDriver.__init__() got multiple values for argument 'options'"
     ]
    }
   ],
=======
   "execution_count": null,
   "metadata": {
    "id": "hT9crJzGl02_"
   },
   "outputs": [],
>>>>>>> 80f8de8 (commit new ipynb files)
   "source": [
    "#셀레니움 설치, 크롬 드라이버 다운로드\n",
    "from selenium import webdriver\n",
    "options = webdriver.ChromeOptions()\n",
    "options.add_argument('--headless')\n",
    "options.add_argument('--no-sandbox')\n",
    "options.add_argument('--disable-dev-shm-usage')\n",
    "# open it, go to a website, and get results\n",
    "driver = webdriver.Chrome('chromedriver',options=options)\n",
    "page = driver.get(url)\n",
    "# 크롬에서는 실행되는 것이 눈에 보이지 않음\n",
    "print(driver.page_source)"
   ]
  },
  {
   "cell_type": "markdown",
   "metadata": {
    "id": "nT7GPXpjjoLh"
   },
   "source": []
  }
 ],
 "metadata": {
  "colab": {
   "authorship_tag": "ABX9TyP+XK40aHNQj36W0WiWIx2U",
   "include_colab_link": true,
   "name": "06 뷰티풀 수프와 셀레니움.ipynb",
   "provenance": [],
   "toc_visible": true
  },
  "kernelspec": {
   "display_name": "Python 3 (ipykernel)",
   "language": "python",
   "name": "python3"
  },
  "language_info": {
   "codemirror_mode": {
    "name": "ipython",
    "version": 3
   },
   "file_extension": ".py",
   "mimetype": "text/x-python",
   "name": "python",
   "nbconvert_exporter": "python",
   "pygments_lexer": "ipython3",
   "version": "3.10.9"
  }
 },
 "nbformat": 4,
 "nbformat_minor": 1
}
