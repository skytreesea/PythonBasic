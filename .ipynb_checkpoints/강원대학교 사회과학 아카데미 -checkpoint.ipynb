{
 "cells": [
  {
   "cell_type": "code",
   "execution_count": 4,
   "id": "b448cd23",
   "metadata": {},
   "outputs": [
    {
     "name": "stdout",
     "output_type": "stream",
     "text": [
      "hello world\n"
     ]
    }
   ],
   "source": [
    "print('hello world')"
   ]
  },
  {
   "cell_type": "code",
   "execution_count": 5,
   "id": "3252a7da",
   "metadata": {},
   "outputs": [
    {
     "data": {
      "text/plain": [
       "50.0"
      ]
     },
     "execution_count": 5,
     "metadata": {},
     "output_type": "execute_result"
    }
   ],
   "source": [
    "150/3"
   ]
  },
  {
   "cell_type": "code",
   "execution_count": 7,
   "id": "9d11589d",
   "metadata": {},
   "outputs": [],
   "source": [
    "a= 1\n",
    "b = \"사람\""
   ]
  },
  {
   "cell_type": "code",
   "execution_count": 9,
   "id": "1d8dc3d7",
   "metadata": {},
   "outputs": [
    {
     "data": {
      "text/plain": [
       "int"
      ]
     },
     "execution_count": 9,
     "metadata": {},
     "output_type": "execute_result"
    }
   ],
   "source": [
    "type(a) #int 정수형"
   ]
  },
  {
   "cell_type": "code",
   "execution_count": 12,
   "id": "e6088a91",
   "metadata": {},
   "outputs": [
    {
     "data": {
      "text/plain": [
       "str"
      ]
     },
     "execution_count": 12,
     "metadata": {},
     "output_type": "execute_result"
    }
   ],
   "source": [
    "type(b) #문자형 string"
   ]
  },
  {
   "cell_type": "code",
   "execution_count": 15,
   "id": "9ad3559b",
   "metadata": {},
   "outputs": [
    {
     "data": {
      "text/plain": [
       "int"
      ]
     },
     "execution_count": 15,
     "metadata": {},
     "output_type": "execute_result"
    }
   ],
   "source": [
    "type(int('123'))"
   ]
  },
  {
   "cell_type": "code",
   "execution_count": 17,
   "id": "86eef90e",
   "metadata": {},
   "outputs": [
    {
     "data": {
      "text/plain": [
       "float"
      ]
     },
     "execution_count": 17,
     "metadata": {},
     "output_type": "execute_result"
    }
   ],
   "source": [
    "type(1.12)"
   ]
  },
  {
   "cell_type": "code",
   "execution_count": 26,
   "id": "452c827b",
   "metadata": {},
   "outputs": [
    {
     "data": {
      "text/plain": [
       "1"
      ]
     },
     "execution_count": 26,
     "metadata": {},
     "output_type": "execute_result"
    }
   ],
   "source": [
    "a= 100\n",
    "b = 104\n",
    "b//a"
   ]
  },
  {
   "cell_type": "code",
   "execution_count": 27,
   "id": "4a01fe7e",
   "metadata": {},
   "outputs": [
    {
     "name": "stdout",
     "output_type": "stream",
     "text": [
      "Python is fun\n"
     ]
    }
   ],
   "source": [
    "c = 'Python is fun'\n",
    "print(c)"
   ]
  },
  {
   "cell_type": "code",
   "execution_count": 36,
   "id": "98942e42",
   "metadata": {},
   "outputs": [],
   "source": [
    "d='''위와 같은 문자열을 food 변수에 저장하고 싶다고 가정해 보자. 문자열 중 Python's에 작은따옴표(')가 포함되어 있다.\n",
    "\n",
    "이 경우에는 문자열을 큰따옴표로 둘러싸야 한다. 큰따옴표 안에 들어 있는 작은따옴표는 문자열을 나타내기 위한 기호로 인식되지 않는다. 대화형 인터프리터를 열고 다음과 같이 입력해 보자.'''"
   ]
  },
  {
   "cell_type": "code",
   "execution_count": 43,
   "id": "925834cf",
   "metadata": {},
   "outputs": [
    {
     "data": {
      "text/plain": [
       "\" food 변수에 저장하고 싶다고 가정해 보자. 문자열 중 Python's에 작은따옴표(')가 포함되어 있다.\\n\\n이 경우에는 문자열을 큰따옴표로 둘러싸야 한다. 큰따옴표 안에 들어 있는 작은따옴표는 문자열을 나타내기 위한 기호로 인식되지 않는다. 대화형 인터프리\""
      ]
     },
     "execution_count": 43,
     "metadata": {},
     "output_type": "execute_result"
    }
   ],
   "source": [
    "d[10:-20]"
   ]
  },
  {
   "cell_type": "code",
   "execution_count": 48,
   "id": "f2bd4074",
   "metadata": {},
   "outputs": [
    {
     "name": "stdout",
     "output_type": "stream",
     "text": [
      "나는 집에 가고 싶다. \n",
      "나는 배가 고프다.\n"
     ]
    }
   ],
   "source": [
    "print('나는 집에 가고 싶다. \\n나는 배가 고프다.')"
   ]
  }
 ],
 "metadata": {
  "kernelspec": {
   "display_name": "Python 3 (ipykernel)",
   "language": "python",
   "name": "python3"
  },
  "language_info": {
   "codemirror_mode": {
    "name": "ipython",
    "version": 3
   },
   "file_extension": ".py",
   "mimetype": "text/x-python",
   "name": "python",
   "nbconvert_exporter": "python",
   "pygments_lexer": "ipython3",
   "version": "3.10.9"
  }
 },
 "nbformat": 4,
 "nbformat_minor": 5
}
