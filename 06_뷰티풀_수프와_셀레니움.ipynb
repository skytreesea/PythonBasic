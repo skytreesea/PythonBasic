{
  "nbformat": 4,
  "nbformat_minor": 0,
  "metadata": {
    "colab": {
      "name": "06 뷰티풀 수프와 셀레니움.ipynb",
      "provenance": [],
      "toc_visible": true,
      "authorship_tag": "ABX9TyP+XK40aHNQj36W0WiWIx2U",
      "include_colab_link": true
    },
    "kernelspec": {
      "name": "python3",
      "display_name": "Python 3"
    }
  },
  "cells": [
    {
      "cell_type": "markdown",
      "metadata": {
        "id": "view-in-github",
        "colab_type": "text"
      },
      "source": [
        "<a href=\"https://colab.research.google.com/github/skytreesea/PythonBasic/blob/master/06_%EB%B7%B0%ED%8B%B0%ED%92%80_%EC%88%98%ED%94%84%EC%99%80_%EC%85%80%EB%A0%88%EB%8B%88%EC%9B%80.ipynb\" target=\"_parent\"><img src=\"https://colab.research.google.com/assets/colab-badge.svg\" alt=\"Open In Colab\"/></a>"
      ]
    },
    {
      "cell_type": "markdown",
      "metadata": {
        "id": "YXqnw_9Ud8Yr"
      },
      "source": [
        "뷰티풀숲과 셀레니움\r\n",
        "뷰티풀수프와 셀레니움(BeautifulSoup and selenium)\r\n",
        "안녕하세요. '파이썬을 활용한 웹 크롤링 강좌' 맡고 있는 마스터 김창현입니다.<br>\r\n",
        "오늘은 1강에서 잠깐 소개드렸던 뷰티풀수프와 셀레니움 방식 접근방식을 각각 한번씩 보여드리려고 해요. \r\n",
        "지금 바로 시작해볼게요. \r\n",
        "먼저 개념을 잠깐 짚고 넘어갈게요.<br>\r\n",
        "    뷰티풀수프 방식은 웹페이지의 HTML을 요청받는 방법\r\n",
        "    셀레니움은 직접 사용자처럼 가상 브라우저를 통해 웹에 접근하는 방식\r\n",
        "이 말만으로는 잘 눈에 들어오지 않으시죠? 그럼 바로 한 번 실습을 들어가볼까요? \r\n",
        "\r\n",
        "\r\n",
        "\r\n",
        "\r\n",
        "\r\n"
      ]
    },
    {
      "cell_type": "code",
      "metadata": {
        "id": "sA5KQdUTd18w"
      },
      "source": [
        "# 뷰티풀수프\r\n",
        "from bs4 import BeautifulSoup \r\n",
        "import requests\r\n",
        "url = 'https://www.naver.com/'\r\n",
        "req = requests.get(url)\r\n",
        "soup = BeautifulSoup(req.text)\r\n",
        "a_list = soup.find_all('a')\r\n",
        "print([i.text for i in a_list])\r\n"
      ],
      "execution_count": null,
      "outputs": []
    },
    {
      "cell_type": "markdown",
      "metadata": {
        "id": "ouIn7c4Sd2SL"
      },
      "source": [
        "앞부분은 이해하려고 하기 보다 그냥 매뉴얼(인터넷 검색)을 따라가서 설치하는 것이 빠르다. 명령어 하나 하나 다 이해하려면 시간이 너무 오래걸림. 빨리 앞 부분 세팅을 명확하게 해서 다음 흥미로운 동작을 익히는 것이 중요 "
      ]
    },
    {
      "cell_type": "code",
      "metadata": {
        "id": "5ONkFhqdjbC5"
      },
      "source": [
        "#다운로드 받기 \r\n",
        "!pip install Selenium\r\n",
        "!apt-get update # 중요 업데이트가 일치하지 않으면 셀레니움 실행이 안될 수 있음 \r\n",
        "!apt install chromium-chromedriver"
      ],
      "execution_count": null,
      "outputs": []
    },
    {
      "cell_type": "code",
      "metadata": {
        "id": "hT9crJzGl02_"
      },
      "source": [
        "#셀레니움 설치, 크롬 드라이버 다운로드\r\n",
        "from selenium import webdriver\r\n",
        "options = webdriver.ChromeOptions()\r\n",
        "options.add_argument('--headless')\r\n",
        "options.add_argument('--no-sandbox')\r\n",
        "options.add_argument('--disable-dev-shm-usage')\r\n",
        "# open it, go to a website, and get results\r\n",
        "driver = webdriver.Chrome('chromedriver',options=options)\r\n",
        "page = driver.get(url)\r\n",
        "# 크롬에서는 실행되는 것이 눈에 보이지 않음\r\n",
        "print(driver.page_source)"
      ],
      "execution_count": null,
      "outputs": []
    },
    {
      "cell_type": "markdown",
      "metadata": {
        "id": "nT7GPXpjjoLh"
      },
      "source": [
        ""
      ]
    }
  ]
}