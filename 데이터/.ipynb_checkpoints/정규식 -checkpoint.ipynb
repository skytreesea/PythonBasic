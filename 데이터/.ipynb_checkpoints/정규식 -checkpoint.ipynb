{
 "cells": [
  {
   "cell_type": "markdown",
   "id": "8d1d0ad3",
   "metadata": {},
   "source": [
    "## 정규식 regular expression\n",
    "- 정규식(Regular Expression)은 문자열을 처리하고 검색하는 데 사용되는 강력한 도구\n",
    "- 파이썬에서는 re 모듈을 통해 정규식을 지원 \n",
    "- 정규식은 패턴을 정의하고 해당 패턴과 일치하는 문자열을 찾거나 변환하는 데 사용됨\n",
    "\n",
    "## 할일\n",
    "- 이메일 주소 찾기 \n",
    "- 인용구 찾기 \n",
    "- 대체하기 \n"
   ]
  },
  {
   "cell_type": "markdown",
   "id": "8bff999a",
   "metadata": {},
   "source": [
    "## 정규식 기본 원리 \n",
    "- pattern: 찾을 모양 \n",
    "- string: 찾을 문자열\n",
    "- search, match, findall\n",
    "- ex) re.search('apple','I like apples.')\n",
    "- 나누기: split\n",
    "- 대체하기: sub"
   ]
  },
  {
   "cell_type": "markdown",
   "id": "c7d1d2b9",
   "metadata": {},
   "source": [
    "- .\t임의의 문자와 일치합니다. 개행 문자를 제외한 모든 문자와 매치됩니다.\n",
    "- ^\t문자열의 시작과 일치합니다.\n",
    "- $\t문자열의 끝과 일치합니다.\n",
    "- \\d\t숫자와 일치합니다. [0-9]와 동일한 의미입니다.\n",
    "- \\w\t숫자 또는 밑줄 문자와 일치합니다. [a-zA-Z0-9_]와 동일한 의미입니다.\n",
    "- \\s\t공백 문자와 일치합니다.\n",
    "-  \\*\t바로 앞의 문자가 0회 이상 반복되는 부분과 매치합니다. 예를 들어, ca*t는 ct, cat, caaat 등과 매치됩니다.\n",
    "- \\+\t바로 앞의 문자가 1회 이상 반복되는 부분과 매치합니다. 예를 들어, ca+t는 cat, caaat 등과 매치되지만 ct는 매치되지 않습니다.\n",
    "- \\?\t바로 앞의 문자가 0회 또는 1회 등장하는 부분과 매치합니다. 예를 들어, ca?t는 ct, cat과 매치되지만 caaat은 매치되지 않습니다."
   ]
  },
  {
   "cell_type": "code",
   "execution_count": 21,
   "id": "e2ea7a5a",
   "metadata": {},
   "outputs": [],
   "source": [
    "import re\n",
    "#m = re.search('apple','I like apples. ') 여기에서 apple이라는 단어 찾기 \n",
    "#print(m.group())"
   ]
  },
  {
   "cell_type": "markdown",
   "id": "7775d059",
   "metadata": {},
   "source": [
    "## 기본 패턴 찾기 연습\n",
    "- findall로 시작(find_all과 혼돈 유의)\n",
    "- 정규식 re.명령어(패턴, 바꿀 문자열)"
   ]
  },
  {
   "cell_type": "code",
   "execution_count": 1,
   "id": "f2e7bb1f",
   "metadata": {},
   "outputs": [
    {
     "name": "stdout",
     "output_type": "stream",
     "text": [
      "정규식 패턴 'John'과 일치하는 문자열: ['John']\n"
     ]
    }
   ],
   "source": [
    "# 예제 문자열\n",
    "text = \"Hello, my name is John. My email is john@example.com.\"\n",
    "\n",
    "# 정규식 패턴과 일치하는 문자열 찾기\n",
    "pattern1 = r\"John\"\n",
    "result1 = re.findall(pattern1, text)\n",
    "print(\"정규식 패턴 'John'과 일치하는 문자열:\", result1)"
   ]
  },
  {
   "cell_type": "code",
   "execution_count": 2,
   "id": "5cc4308a",
   "metadata": {},
   "outputs": [
    {
     "name": "stdout",
     "output_type": "stream",
     "text": [
      "이메일 주소: ['john@example.com']\n"
     ]
    }
   ],
   "source": [
    "# 이메일 주소 찾기\n",
    "pattern2 = r\"[a-zA-Z0-9._%+-]+@[a-zA-Z0-9.-]+\\.[a-zA-Z]{2,}\"\n",
    "result2 = re.findall(pattern2, text)\n",
    "print(\"이메일 주소:\", result2)\n"
   ]
  },
  {
   "cell_type": "code",
   "execution_count": 3,
   "id": "e1c4d5c3",
   "metadata": {},
   "outputs": [
    {
     "name": "stdout",
     "output_type": "stream",
     "text": [
      "문자열 대체 결과: Hello, my name is Mike. My email is john@example.com.\n"
     ]
    }
   ],
   "source": [
    "# 문자열 대체하기\n",
    "pattern3 = r\"John\"\n",
    "replace_text = \"Mike\"\n",
    "result3 = re.sub(pattern3, replace_text, text)\n",
    "print(\"문자열 대체 결과:\", result3)"
   ]
  },
  {
   "cell_type": "markdown",
   "id": "a1c7a337",
   "metadata": {},
   "source": [
    "## 정규식 기본 실습\n",
    "- 전화번호 찾기 \n",
    "- 이메일 찾기 \n",
    "- 주민등록번호 찾기 "
   ]
  },
  {
   "cell_type": "code",
   "execution_count": 17,
   "id": "49c482f2",
   "metadata": {},
   "outputs": [],
   "source": [
    "variables = \"02-1123-2235, 012-1222-5566, upan@upan.com, idontknow@upan.com, 121212-2233445, 231211-4212345\""
   ]
  },
  {
   "cell_type": "code",
   "execution_count": null,
   "id": "afbf243d",
   "metadata": {},
   "outputs": [],
   "source": [
    "# 전화번호 찾기 \n",
    "print(re.findall('\\d+-\\d+-\\d+', variables))"
   ]
  },
  {
   "cell_type": "code",
   "execution_count": 15,
   "id": "ab47f70f",
   "metadata": {},
   "outputs": [
    {
     "name": "stdout",
     "output_type": "stream",
     "text": [
      "['121212-2233445', '231211-4212345']\n"
     ]
    }
   ],
   "source": [
    "# 주민등록번호 찾기 \n",
    "print(re.findall('\\d{6}-\\d{7}', variables))"
   ]
  },
  {
   "cell_type": "code",
   "execution_count": 16,
   "id": "86f390d3",
   "metadata": {},
   "outputs": [
    {
     "name": "stdout",
     "output_type": "stream",
     "text": [
      "<re.Match object; span=(32, 35), match='n@u'>\n",
      "['upan@upan.com', 'idontknow@upan.com']\n"
     ]
    }
   ],
   "source": [
    "\n",
    "# 이메일 주소 찾기 \n",
    "print(re.search(r'[a-z]@[a-z\\.]', variables))\n",
    "print(re.findall(r'[a-z]+@[a-z\\.]+', variables))"
   ]
  },
  {
   "cell_type": "code",
   "execution_count": 23,
   "id": "18db919c",
   "metadata": {},
   "outputs": [
    {
     "name": "stdout",
     "output_type": "stream",
     "text": [
      "['나는 이런 논문을 봤습니다(Great, 2020)', ' 이런 문장을 많이 봅니다(James, 2012)', ' 이런 인용구가 흔합니다(이동민, 2020)', '']\n"
     ]
    }
   ],
   "source": [
    "#split을 통한 문장 나누기 \n",
    "sentences = '''나는 이런 논문을 봤습니다(Great, 2020). 이런 문장을 많이 봅니다(James, 2012). 이런 인용구가 흔합니다(이동민, 2020).'''\n",
    "# 문장 나누기 \n",
    "split_sentences = re.split('\\.', sentences)\n",
    "print(split_sentences)"
   ]
  },
  {
   "cell_type": "code",
   "execution_count": 29,
   "id": "70fb8c04",
   "metadata": {},
   "outputs": [
    {
     "name": "stdout",
     "output_type": "stream",
     "text": [
      "['(Great, 2020)', '(James, 2012)', '(이동민, 2020)']\n"
     ]
    }
   ],
   "source": [
    "#인용구만 찾기 \n",
    "print(re.findall('\\(\\D+\\d{4}\\)',sentences))"
   ]
  },
  {
   "cell_type": "markdown",
   "id": "bf5ff19a",
   "metadata": {},
   "source": [
    "## 어린왕자에서 어른이 들어간 문장만 찾아보기 \n"
   ]
  },
  {
   "cell_type": "code",
   "execution_count": 45,
   "id": "af4c852f",
   "metadata": {},
   "outputs": [
    {
     "name": "stdout",
     "output_type": "stream",
     "text": [
      "\n",
      "\n",
      "\"난 지리학자란다\n",
      "\n",
      "\n",
      "\"지리학자가 뭐예요?\"\n",
      "\n",
      "\"바다와 강과 도시와 산, 그리고 사막이 어디에 있는지를 아는 사람이지\n",
      " 그거야말로 직업다운 직업이군요!\" 어린 왕자는 말하고, 지리학자의 별을 한번 휘둘러보았다\n",
      "\" 지리학자가 대답했다\n",
      "\" 지리학자가 말했다\n",
      "\" 지리학자가 말했다\n",
      "\n",
      "\n",
      "\"할아버진 지리학자 아녜요!\"\n",
      "\n",
      "\"그렇지\n",
      " 도시와 강과 산, 바다와 태양과 사막을 세러 다니는 건 지리학자가 하는 일이 아냐\n",
      " 지리학자는 아주 중요한 사람이니까 한가로이 돌아다닐 수가 없지\n",
      " 탐험가의 기억 중에 흥미로운 게 있으면 지리학자는 그 사람의 정신 상태를 조사시키지\n",
      " 그렇게 되면 지리학자는 산 하나밖에 없는 데다 산 둘을 기입하게 될지도 모르잖아\n",
      "\"\n",
      "\n",
      "지리학자는 갑자기 흥분했다\n",
      "\n",
      "\n",
      "\"그런데 너는 멀리서 왔지! 너는 탐험가야! 너의 별이 어떤 별인지 이야기해 줘!\"\n",
      "\n",
      "그러더니 지리학자는 노트를 펴고 연필을 깎았다\n",
      "\n",
      "\n",
      "\"자, 시작해 볼까?\" 지리학자가 물었다\n",
      "\" 지리학자가 말했다\n",
      "\" 지리학자가 말했다\n"
     ]
    }
   ],
   "source": [
    "f = open(r'C:\\Users\\skytr\\OneDrive\\문서\\PythonBasic\\words\\little_prince.txt', 'r', encoding='utf8')\n",
    "total = f.read()\n",
    "for i in re.split('\\.',total): # 문장 나누기 \n",
    "    if re.search('지리학자',i): # 어른이 들어간 문장 찾기 \n",
    "        print(i) # 출력하기 "
   ]
  }
 ],
 "metadata": {
  "kernelspec": {
   "display_name": "Python 3 (ipykernel)",
   "language": "python",
   "name": "python3"
  },
  "language_info": {
   "codemirror_mode": {
    "name": "ipython",
    "version": 3
   },
   "file_extension": ".py",
   "mimetype": "text/x-python",
   "name": "python",
   "nbconvert_exporter": "python",
   "pygments_lexer": "ipython3",
   "version": "3.10.9"
  }
 },
 "nbformat": 4,
 "nbformat_minor": 5
}
