{
 "cells": [
  {
   "cell_type": "code",
   "execution_count": 2,
   "id": "0068f926",
   "metadata": {},
   "outputs": [],
   "source": [
    "import pandas as pd # pd 로 불러옴"
   ]
  },
  {
   "cell_type": "code",
   "execution_count": 3,
   "id": "968226cd",
   "metadata": {},
   "outputs": [],
   "source": [
    "df = pd.read_csv(r\"C:\\Users\\skytr\\Documents\\GitHub\\do-it-python\\04\\popSeoul.csv\", thousands=',') #인코딩 안될 때 'cp949', 'utf8'\n",
    "# csv 로 불러오는 방법, 경로 복사 붙여넣고,  r, 천에 콤마가 있는 경우 "
   ]
  },
  {
   "cell_type": "code",
   "execution_count": 7,
   "id": "e65c69b2",
   "metadata": {},
   "outputs": [
    {
     "name": "stderr",
     "output_type": "stream",
     "text": [
      "C:\\Users\\skytr\\AppData\\Local\\Temp\\ipykernel_21224\\768187483.py:1: FutureWarning: The default value of numeric_only in DataFrame.mean is deprecated. In a future version, it will default to False. In addition, specifying 'numeric_only=None' is deprecated. Select only valid columns or specify the value of numeric_only to silence this warning.\n",
      "  df.mean()\n"
     ]
    },
    {
     "data": {
      "text/plain": [
       "Korean       389615.92\n",
       "Foreigner     11421.16\n",
       "Senior        58725.84\n",
       "dtype: float64"
      ]
     },
     "execution_count": 7,
     "metadata": {},
     "output_type": "execute_result"
    }
   ],
   "source": [
    " df.mean()"
   ]
  },
  {
   "cell_type": "code",
   "execution_count": 8,
   "id": "c1807cea",
   "metadata": {},
   "outputs": [
    {
     "data": {
      "text/plain": [
       "Gu           JongroguJongruYongsanguSeongdongguKwangjinguDo...\n",
       "Korean                                                 9740398\n",
       "Foreigner                                               285529\n",
       "Senior                                                 1468146\n",
       "dtype: object"
      ]
     },
     "execution_count": 8,
     "metadata": {},
     "output_type": "execute_result"
    }
   ],
   "source": [
    "# df = 데이터프레임: 판다스에서 사용하도록 최적화된 데이터프레임\n",
    "df.sum() #서울시 구별 인구 "
   ]
  },
  {
   "cell_type": "code",
   "execution_count": 20,
   "id": "90a94141",
   "metadata": {},
   "outputs": [],
   "source": [
    "df40 = df[df['Korean']  > 400000] #새로운 판다스 객체\n"
   ]
  },
  {
   "cell_type": "code",
   "execution_count": 23,
   "id": "42f9a084",
   "metadata": {},
   "outputs": [
    {
     "name": "stderr",
     "output_type": "stream",
     "text": [
      "C:\\Users\\skytr\\AppData\\Local\\Temp\\ipykernel_21224\\720381563.py:1: FutureWarning: The default value of numeric_only in DataFrame.mean is deprecated. In a future version, it will default to False. In addition, specifying 'numeric_only=None' is deprecated. Select only valid columns or specify the value of numeric_only to silence this warning.\n",
      "  df40.mean() #평균\n"
     ]
    },
    {
     "data": {
      "text/plain": [
       "Korean       499974.545455\n",
       "Foreigner      9410.636364\n",
       "Senior        71570.818182\n",
       "dtype: float64"
      ]
     },
     "execution_count": 23,
     "metadata": {},
     "output_type": "execute_result"
    }
   ],
   "source": [
    "df40.mean() #평균"
   ]
  },
  {
   "cell_type": "code",
   "execution_count": 27,
   "id": "44190f3d",
   "metadata": {
    "scrolled": true
   },
   "outputs": [
    {
     "data": {
      "text/html": [
       "<div>\n",
       "<style scoped>\n",
       "    .dataframe tbody tr th:only-of-type {\n",
       "        vertical-align: middle;\n",
       "    }\n",
       "\n",
       "    .dataframe tbody tr th {\n",
       "        vertical-align: top;\n",
       "    }\n",
       "\n",
       "    .dataframe thead th {\n",
       "        text-align: right;\n",
       "    }\n",
       "</style>\n",
       "<table border=\"1\" class=\"dataframe\">\n",
       "  <thead>\n",
       "    <tr style=\"text-align: right;\">\n",
       "      <th></th>\n",
       "      <th>Korean</th>\n",
       "      <th>Foreigner</th>\n",
       "      <th>Senior</th>\n",
       "    </tr>\n",
       "  </thead>\n",
       "  <tbody>\n",
       "    <tr>\n",
       "      <th>count</th>\n",
       "      <td>11.000000</td>\n",
       "      <td>11.000000</td>\n",
       "      <td>11.000000</td>\n",
       "    </tr>\n",
       "    <tr>\n",
       "      <th>mean</th>\n",
       "      <td>499974.545455</td>\n",
       "      <td>9410.636364</td>\n",
       "      <td>71570.818182</td>\n",
       "    </tr>\n",
       "    <tr>\n",
       "      <th>std</th>\n",
       "      <td>82297.154215</td>\n",
       "      <td>8973.573427</td>\n",
       "      <td>9926.428852</td>\n",
       "    </tr>\n",
       "    <tr>\n",
       "      <th>min</th>\n",
       "      <td>406748.000000</td>\n",
       "      <td>4082.000000</td>\n",
       "      <td>56455.000000</td>\n",
       "    </tr>\n",
       "    <tr>\n",
       "      <th>25%</th>\n",
       "      <td>436308.500000</td>\n",
       "      <td>4399.500000</td>\n",
       "      <td>63331.000000</td>\n",
       "    </tr>\n",
       "    <tr>\n",
       "      <th>50%</th>\n",
       "      <td>481663.000000</td>\n",
       "      <td>5015.000000</td>\n",
       "      <td>70204.000000</td>\n",
       "    </tr>\n",
       "    <tr>\n",
       "      <th>75%</th>\n",
       "      <td>539655.000000</td>\n",
       "      <td>9686.500000</td>\n",
       "      <td>79962.500000</td>\n",
       "    </tr>\n",
       "    <tr>\n",
       "      <th>max</th>\n",
       "      <td>677489.000000</td>\n",
       "      <td>33102.000000</td>\n",
       "      <td>86062.000000</td>\n",
       "    </tr>\n",
       "  </tbody>\n",
       "</table>\n",
       "</div>"
      ],
      "text/plain": [
       "              Korean     Foreigner        Senior\n",
       "count      11.000000     11.000000     11.000000\n",
       "mean   499974.545455   9410.636364  71570.818182\n",
       "std     82297.154215   8973.573427   9926.428852\n",
       "min    406748.000000   4082.000000  56455.000000\n",
       "25%    436308.500000   4399.500000  63331.000000\n",
       "50%    481663.000000   5015.000000  70204.000000\n",
       "75%    539655.000000   9686.500000  79962.500000\n",
       "max    677489.000000  33102.000000  86062.000000"
      ]
     },
     "execution_count": 27,
     "metadata": {},
     "output_type": "execute_result"
    }
   ],
   "source": [
    "df40.describe() #40만 넘는 구"
   ]
  },
  {
   "cell_type": "code",
   "execution_count": 28,
   "id": "4adbf1be",
   "metadata": {},
   "outputs": [
    {
     "data": {
      "text/html": [
       "<div>\n",
       "<style scoped>\n",
       "    .dataframe tbody tr th:only-of-type {\n",
       "        vertical-align: middle;\n",
       "    }\n",
       "\n",
       "    .dataframe tbody tr th {\n",
       "        vertical-align: top;\n",
       "    }\n",
       "\n",
       "    .dataframe thead th {\n",
       "        text-align: right;\n",
       "    }\n",
       "</style>\n",
       "<table border=\"1\" class=\"dataframe\">\n",
       "  <thead>\n",
       "    <tr style=\"text-align: right;\">\n",
       "      <th></th>\n",
       "      <th>Korean</th>\n",
       "      <th>Foreigner</th>\n",
       "      <th>Senior</th>\n",
       "    </tr>\n",
       "  </thead>\n",
       "  <tbody>\n",
       "    <tr>\n",
       "      <th>count</th>\n",
       "      <td>25.000000</td>\n",
       "      <td>25.000000</td>\n",
       "      <td>25.000000</td>\n",
       "    </tr>\n",
       "    <tr>\n",
       "      <th>mean</th>\n",
       "      <td>389615.920000</td>\n",
       "      <td>11421.160000</td>\n",
       "      <td>58725.840000</td>\n",
       "    </tr>\n",
       "    <tr>\n",
       "      <th>std</th>\n",
       "      <td>129798.481698</td>\n",
       "      <td>8432.515366</td>\n",
       "      <td>16360.578539</td>\n",
       "    </tr>\n",
       "    <tr>\n",
       "      <th>min</th>\n",
       "      <td>126409.000000</td>\n",
       "      <td>2314.000000</td>\n",
       "      <td>23025.000000</td>\n",
       "    </tr>\n",
       "    <tr>\n",
       "      <th>25%</th>\n",
       "      <td>314090.000000</td>\n",
       "      <td>4547.000000</td>\n",
       "      <td>51708.000000</td>\n",
       "    </tr>\n",
       "    <tr>\n",
       "      <th>50%</th>\n",
       "      <td>397618.000000</td>\n",
       "      <td>10254.000000</td>\n",
       "      <td>59808.000000</td>\n",
       "    </tr>\n",
       "    <tr>\n",
       "      <th>75%</th>\n",
       "      <td>459849.000000</td>\n",
       "      <td>15645.000000</td>\n",
       "      <td>70029.000000</td>\n",
       "    </tr>\n",
       "    <tr>\n",
       "      <th>max</th>\n",
       "      <td>677489.000000</td>\n",
       "      <td>34076.000000</td>\n",
       "      <td>86062.000000</td>\n",
       "    </tr>\n",
       "  </tbody>\n",
       "</table>\n",
       "</div>"
      ],
      "text/plain": [
       "              Korean     Foreigner        Senior\n",
       "count      25.000000     25.000000     25.000000\n",
       "mean   389615.920000  11421.160000  58725.840000\n",
       "std    129798.481698   8432.515366  16360.578539\n",
       "min    126409.000000   2314.000000  23025.000000\n",
       "25%    314090.000000   4547.000000  51708.000000\n",
       "50%    397618.000000  10254.000000  59808.000000\n",
       "75%    459849.000000  15645.000000  70029.000000\n",
       "max    677489.000000  34076.000000  86062.000000"
      ]
     },
     "execution_count": 28,
     "metadata": {},
     "output_type": "execute_result"
    }
   ],
   "source": [
    "df.describe() #서울시 "
   ]
  },
  {
   "cell_type": "code",
   "execution_count": 31,
   "id": "cd08f1fe",
   "metadata": {},
   "outputs": [],
   "source": [
    "df = pd.read_csv(r\"C:\\Users\\skytr\\Documents\\GitHub\\do-it-python\\05\\apt201302.csv\", encoding = 'cp949')\n",
    "# encoding = 'cp949'(특정 프로그램에서 저장할 때 저장한 코딩방법) , 'utf8'"
   ]
  },
  {
   "cell_type": "code",
   "execution_count": 32,
   "id": "e3990f31",
   "metadata": {},
   "outputs": [
    {
     "data": {
      "text/html": [
       "<div>\n",
       "<style scoped>\n",
       "    .dataframe tbody tr th:only-of-type {\n",
       "        vertical-align: middle;\n",
       "    }\n",
       "\n",
       "    .dataframe tbody tr th {\n",
       "        vertical-align: top;\n",
       "    }\n",
       "\n",
       "    .dataframe thead th {\n",
       "        text-align: right;\n",
       "    }\n",
       "</style>\n",
       "<table border=\"1\" class=\"dataframe\">\n",
       "  <thead>\n",
       "    <tr style=\"text-align: right;\">\n",
       "      <th></th>\n",
       "      <th>시군구</th>\n",
       "      <th>구</th>\n",
       "      <th>동</th>\n",
       "      <th>단지명</th>\n",
       "      <th>전용면적(㎡)</th>\n",
       "      <th>계약년월</th>\n",
       "      <th>단가</th>\n",
       "      <th>계약일</th>\n",
       "      <th>가격</th>\n",
       "      <th>층</th>\n",
       "      <th>건축년도</th>\n",
       "      <th>도로명</th>\n",
       "      <th>해제사유발생일</th>\n",
       "      <th>거래유형</th>\n",
       "      <th>중개사소재지</th>\n",
       "    </tr>\n",
       "  </thead>\n",
       "  <tbody>\n",
       "    <tr>\n",
       "      <th>0</th>\n",
       "      <td>서울특별시</td>\n",
       "      <td>강남구</td>\n",
       "      <td>압구정동</td>\n",
       "      <td>현대6차(78~81,83,84,86,87동)</td>\n",
       "      <td>157.000</td>\n",
       "      <td>202302</td>\n",
       "      <td>3694.267516</td>\n",
       "      <td>14</td>\n",
       "      <td>580000</td>\n",
       "      <td>4</td>\n",
       "      <td>1978</td>\n",
       "      <td>압구정로 201</td>\n",
       "      <td>NaN</td>\n",
       "      <td>중개거래</td>\n",
       "      <td>서울 강남구</td>\n",
       "    </tr>\n",
       "    <tr>\n",
       "      <th>1</th>\n",
       "      <td>서울특별시</td>\n",
       "      <td>서초구</td>\n",
       "      <td>반포동</td>\n",
       "      <td>반포자이</td>\n",
       "      <td>194.515</td>\n",
       "      <td>202302</td>\n",
       "      <td>2724.725600</td>\n",
       "      <td>28</td>\n",
       "      <td>530000</td>\n",
       "      <td>17</td>\n",
       "      <td>2009</td>\n",
       "      <td>신반포로 270</td>\n",
       "      <td>NaN</td>\n",
       "      <td>중개거래</td>\n",
       "      <td>서울 서초구</td>\n",
       "    </tr>\n",
       "    <tr>\n",
       "      <th>2</th>\n",
       "      <td>서울특별시</td>\n",
       "      <td>강남구</td>\n",
       "      <td>압구정동</td>\n",
       "      <td>현대7차(73~77,82,85동)</td>\n",
       "      <td>157.360</td>\n",
       "      <td>202302</td>\n",
       "      <td>3171.072700</td>\n",
       "      <td>4</td>\n",
       "      <td>499000</td>\n",
       "      <td>11</td>\n",
       "      <td>1979</td>\n",
       "      <td>압구정로 201</td>\n",
       "      <td>NaN</td>\n",
       "      <td>중개거래</td>\n",
       "      <td>서울 강남구</td>\n",
       "    </tr>\n",
       "    <tr>\n",
       "      <th>3</th>\n",
       "      <td>서울특별시</td>\n",
       "      <td>용산구</td>\n",
       "      <td>한남동</td>\n",
       "      <td>트윈빌에이동</td>\n",
       "      <td>222.690</td>\n",
       "      <td>202302</td>\n",
       "      <td>2020.746329</td>\n",
       "      <td>20</td>\n",
       "      <td>450000</td>\n",
       "      <td>5</td>\n",
       "      <td>2008</td>\n",
       "      <td>유엔빌리지길 11</td>\n",
       "      <td>NaN</td>\n",
       "      <td>직거래</td>\n",
       "      <td>-</td>\n",
       "    </tr>\n",
       "    <tr>\n",
       "      <th>4</th>\n",
       "      <td>서울특별시</td>\n",
       "      <td>서초구</td>\n",
       "      <td>반포동</td>\n",
       "      <td>반포주공1단지</td>\n",
       "      <td>104.890</td>\n",
       "      <td>202302</td>\n",
       "      <td>4099.532844</td>\n",
       "      <td>17</td>\n",
       "      <td>430000</td>\n",
       "      <td>5</td>\n",
       "      <td>1973</td>\n",
       "      <td>신반포로 9</td>\n",
       "      <td>NaN</td>\n",
       "      <td>중개거래</td>\n",
       "      <td>서울 서초구</td>\n",
       "    </tr>\n",
       "  </tbody>\n",
       "</table>\n",
       "</div>"
      ],
      "text/plain": [
       "     시군구    구     동                       단지명  전용면적(㎡)    계약년월           단가  \\\n",
       "0  서울특별시  강남구  압구정동  현대6차(78~81,83,84,86,87동)  157.000  202302  3694.267516   \n",
       "1  서울특별시  서초구   반포동                      반포자이  194.515  202302  2724.725600   \n",
       "2  서울특별시  강남구  압구정동        현대7차(73~77,82,85동)  157.360  202302  3171.072700   \n",
       "3  서울특별시  용산구   한남동                    트윈빌에이동  222.690  202302  2020.746329   \n",
       "4  서울특별시  서초구   반포동                   반포주공1단지  104.890  202302  4099.532844   \n",
       "\n",
       "   계약일      가격   층  건축년도        도로명  해제사유발생일  거래유형  중개사소재지  \n",
       "0   14  580000   4  1978   압구정로 201      NaN  중개거래  서울 강남구  \n",
       "1   28  530000  17  2009   신반포로 270      NaN  중개거래  서울 서초구  \n",
       "2    4  499000  11  1979   압구정로 201      NaN  중개거래  서울 강남구  \n",
       "3   20  450000   5  2008  유엔빌리지길 11      NaN   직거래       -  \n",
       "4   17  430000   5  1973     신반포로 9      NaN  중개거래  서울 서초구  "
      ]
     },
     "execution_count": 32,
     "metadata": {},
     "output_type": "execute_result"
    }
   ],
   "source": [
    "df.head()"
   ]
  },
  {
   "cell_type": "code",
   "execution_count": 35,
   "id": "1454c9dd",
   "metadata": {},
   "outputs": [
    {
     "data": {
      "text/plain": [
       "178.75"
      ]
     },
     "execution_count": 35,
     "metadata": {},
     "output_type": "execute_result"
    }
   ],
   "source": [
    "import numpy as np\n",
    "a  = np.array([[170, 180, 190, 175]])\n",
    "a.mean()"
   ]
  },
  {
   "cell_type": "code",
   "execution_count": 36,
   "id": "87630913",
   "metadata": {},
   "outputs": [
    {
     "data": {
      "text/plain": [
       "송파구     236\n",
       "강동구     200\n",
       "노원구     176\n",
       "강남구     163\n",
       "강서구     148\n",
       "성북구     144\n",
       "양천구     114\n",
       "동대문구    102\n",
       "도봉구     101\n",
       "영등포구     98\n",
       "구로구      95\n",
       "서대문구     91\n",
       "은평구      91\n",
       "마포구      87\n",
       "성동구      84\n",
       "서초구      67\n",
       "동작구      61\n",
       "중랑구      53\n",
       "광진구      46\n",
       "관악구      46\n",
       "강북구      36\n",
       "금천구      31\n",
       "중구       29\n",
       "종로구      21\n",
       "용산구      19\n",
       "Name: 구, dtype: int64"
      ]
     },
     "execution_count": 36,
     "metadata": {},
     "output_type": "execute_result"
    }
   ],
   "source": [
    "# 명목자료는 셀 수만 있다. 빈도분석 \n",
    "df['구'].value_counts()"
   ]
  },
  {
   "cell_type": "code",
   "execution_count": 44,
   "id": "12f3923d",
   "metadata": {},
   "outputs": [
    {
     "data": {
      "text/plain": [
       "단지명\n",
       "강남역우정에쉐르           21000.000000\n",
       "강동리버스트4단지          74350.000000\n",
       "강동역신동아파밀리에         99500.000000\n",
       "강동역에스케이허브          71500.000000\n",
       "강동큐브(2차)           11000.000000\n",
       "강변                 54500.000000\n",
       "강변그대가리버뷰          130000.000000\n",
       "강변래미안              87000.000000\n",
       "강변힐스테이트            98500.000000\n",
       "강서뉴타워              70000.000000\n",
       "강서힐스테이트           112460.000000\n",
       "강오(A동)             50000.000000\n",
       "강일리버파크3단지          72000.000000\n",
       "강일리버파크5단지          78200.000000\n",
       "강일리버파크7단지          59000.000000\n",
       "강일리버파크8단지          78750.000000\n",
       "강일리버파크9단지          85000.000000\n",
       "개나리래미안            325000.000000\n",
       "개포래미안포레스트         169000.000000\n",
       "개포우성1             255000.000000\n",
       "개포우성2             247000.000000\n",
       "개포주공5단지           199000.000000\n",
       "개포주공6단지           250000.000000\n",
       "개화산경남아너스빌          57500.000000\n",
       "갤러리아팰리스           340000.000000\n",
       "갤럭시더정릉             19025.000000\n",
       "거상장미               32000.000000\n",
       "거성푸르뫼2             41000.000000\n",
       "거성학마을아파트           45000.000000\n",
       "거여1단지              59666.666667\n",
       "거여5단지              72000.000000\n",
       "건영2차               54500.000000\n",
       "건영2차아파트            71400.000000\n",
       "건영3                91000.000000\n",
       "경남                 85750.000000\n",
       "경남2                43000.000000\n",
       "경남2차              220000.000000\n",
       "경남교수               85000.000000\n",
       "경남아너스빌             64000.000000\n",
       "경남아너스빌(1356-0)     62375.000000\n",
       "경동엠파이어스테이트          8200.000000\n",
       "경동윈츠리버             77000.000000\n",
       "경희궁롯데캐슬           117000.000000\n",
       "경희궁자이(2단지)        160875.000000\n",
       "경희궁자이(3단지)        141000.000000\n",
       "경희궁파크팰리스          185000.000000\n",
       "고덕 아이파크           135000.000000\n",
       "고덕그라시움            127033.333333\n",
       "고덕롯데캐슬베네루체         98625.000000\n",
       "고덕리엔파크2단지          73500.000000\n",
       "Name: 가격, dtype: float64"
      ]
     },
     "execution_count": 44,
     "metadata": {},
     "output_type": "execute_result"
    }
   ],
   "source": [
    "df.groupby('단지명')['가격'].mean()[50:100]"
   ]
  },
  {
   "cell_type": "markdown",
   "id": "8b3fe999",
   "metadata": {},
   "source": [
    "안녕하세요. 오늘은 numpy와 pandas에 대해서 알아보려고 합니다. "
   ]
  }
 ],
 "metadata": {
  "kernelspec": {
   "display_name": "Python 3 (ipykernel)",
   "language": "python",
   "name": "python3"
  },
  "language_info": {
   "codemirror_mode": {
    "name": "ipython",
    "version": 3
   },
   "file_extension": ".py",
   "mimetype": "text/x-python",
   "name": "python",
   "nbconvert_exporter": "python",
   "pygments_lexer": "ipython3",
   "version": "3.10.9"
  }
 },
 "nbformat": 4,
 "nbformat_minor": 5
}
