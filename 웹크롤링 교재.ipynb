{
 "cells": [
  {
   "cell_type": "markdown",
   "id": "9678efaa",
   "metadata": {},
   "source": [
    "# HTML 의 정의와 기본 실습\n",
    "- \\<!DOCTYPE html>: 이 문서가 HTML5를 사용한다고 선언하는 선언부입니다.\n",
    "- \\<html>: HTML 문서의 시작을 나타내는 태그로, 모든 HTML 요소들을 감싸는 최상위 요소입니다.\n",
    "- \\<head>: 문서의 메타 정보를 정의하는 부분으로, 웹 브라우저에 표시되지 않습니다. 문서 제목과 같은 정보가 여기에 위치합니다.\n",
    "- \\<title>: 웹 브라우저의 탭에 표시될 문서의 제목을 정의하는 태그입니다.\n",
    "- \\<body>: 실제 웹 페이지의 내용이 위치하는 부분으로, 사용자에게 보여집니다.\n",
    "- \\<h1>: 큰 제목을 정의하는 태그입니다. (h1부터 h6까지 사용 가능)\n",
    "- \\<p>: 단락을 정의하는 태그입니다.\n",
    "- \\<a>: 링크를 생성하는 태그로, href 속성을 사용하여 링크의 대상 URL을 지정합니다.\n",
    "- \\<img>: 이미지를 삽입하는 태그로, src 속성을 사용하여 이미지 파일의 경로를 지정하고, alt 속성은 이미지에 대한 설명을 제공합니다. 이미지 파일이 없을 경우에도 이 속성을 사용해야 합니다.\n",
    "\n",
    "### 태그와 속성 개념 이해하기 \n",
    "\n",
    "##  HTML 파일 직접 만들어보기 \n",
    "- HTML 문법을 작성한다. \n",
    "- .html 로 저장한다. \n",
    "- 실행한다(브라우져로 연다). \n",
    "- [명언사이트](http://quotes.toscrape.com/)를 통해 실습"
   ]
  },
  {
   "cell_type": "raw",
   "id": "4ba006e8",
   "metadata": {},
   "source": [
    "<!DOCTYPE html>\n",
    "<html>\n",
    "<head>\n",
    "    <title>내 첫 번째 HTML 문서</title>\n",
    "</head>\n",
    "<body>\n",
    "    <h1>안녕, 세상!</h1>\n",
    "    <p>이것은 첫 번째 단락입니다.</p>\n",
    "    <p>이것은 두 번째 단락입니다.</p>\n",
    "    <a href=\"https://www.example.com\">이것은 링크입니다.</a>\n",
    "    <img src=\"이미지파일.jpg\" alt=\"이미지 설명\">\n",
    "</body>\n",
    "</html>"
   ]
  },
  {
   "cell_type": "markdown",
   "id": "962f11b0",
   "metadata": {},
   "source": [
    "## 가장 먼저 할 일 \n",
    "- beautifulsoup 설치하기 \n",
    "- requests로 기본명령어 수행하기 \n",
    "- a 태그 안 주소 추출"
   ]
  },
  {
   "cell_type": "code",
   "execution_count": 3,
   "id": "8a726de4",
   "metadata": {},
   "outputs": [
    {
     "data": {
      "text/plain": [
       "[<a href=\"/\" style=\"text-decoration: none\">Quotes to Scrape</a>,\n",
       " <a href=\"/login\">Login</a>,\n",
       " <a href=\"/author/Albert-Einstein\">(about)</a>,\n",
       " <a class=\"tag\" href=\"/tag/change/page/1/\">change</a>,\n",
       " <a class=\"tag\" href=\"/tag/deep-thoughts/page/1/\">deep-thoughts</a>,\n",
       " <a class=\"tag\" href=\"/tag/thinking/page/1/\">thinking</a>,\n",
       " <a class=\"tag\" href=\"/tag/world/page/1/\">world</a>,\n",
       " <a href=\"/author/J-K-Rowling\">(about)</a>,\n",
       " <a class=\"tag\" href=\"/tag/abilities/page/1/\">abilities</a>,\n",
       " <a class=\"tag\" href=\"/tag/choices/page/1/\">choices</a>,\n",
       " <a href=\"/author/Albert-Einstein\">(about)</a>,\n",
       " <a class=\"tag\" href=\"/tag/inspirational/page/1/\">inspirational</a>,\n",
       " <a class=\"tag\" href=\"/tag/life/page/1/\">life</a>,\n",
       " <a class=\"tag\" href=\"/tag/live/page/1/\">live</a>,\n",
       " <a class=\"tag\" href=\"/tag/miracle/page/1/\">miracle</a>,\n",
       " <a class=\"tag\" href=\"/tag/miracles/page/1/\">miracles</a>,\n",
       " <a href=\"/author/Jane-Austen\">(about)</a>,\n",
       " <a class=\"tag\" href=\"/tag/aliteracy/page/1/\">aliteracy</a>,\n",
       " <a class=\"tag\" href=\"/tag/books/page/1/\">books</a>,\n",
       " <a class=\"tag\" href=\"/tag/classic/page/1/\">classic</a>,\n",
       " <a class=\"tag\" href=\"/tag/humor/page/1/\">humor</a>,\n",
       " <a href=\"/author/Marilyn-Monroe\">(about)</a>,\n",
       " <a class=\"tag\" href=\"/tag/be-yourself/page/1/\">be-yourself</a>,\n",
       " <a class=\"tag\" href=\"/tag/inspirational/page/1/\">inspirational</a>,\n",
       " <a href=\"/author/Albert-Einstein\">(about)</a>,\n",
       " <a class=\"tag\" href=\"/tag/adulthood/page/1/\">adulthood</a>,\n",
       " <a class=\"tag\" href=\"/tag/success/page/1/\">success</a>,\n",
       " <a class=\"tag\" href=\"/tag/value/page/1/\">value</a>,\n",
       " <a href=\"/author/Andre-Gide\">(about)</a>,\n",
       " <a class=\"tag\" href=\"/tag/life/page/1/\">life</a>,\n",
       " <a class=\"tag\" href=\"/tag/love/page/1/\">love</a>,\n",
       " <a href=\"/author/Thomas-A-Edison\">(about)</a>,\n",
       " <a class=\"tag\" href=\"/tag/edison/page/1/\">edison</a>,\n",
       " <a class=\"tag\" href=\"/tag/failure/page/1/\">failure</a>,\n",
       " <a class=\"tag\" href=\"/tag/inspirational/page/1/\">inspirational</a>,\n",
       " <a class=\"tag\" href=\"/tag/paraphrased/page/1/\">paraphrased</a>,\n",
       " <a href=\"/author/Eleanor-Roosevelt\">(about)</a>,\n",
       " <a class=\"tag\" href=\"/tag/misattributed-eleanor-roosevelt/page/1/\">misattributed-eleanor-roosevelt</a>,\n",
       " <a href=\"/author/Steve-Martin\">(about)</a>,\n",
       " <a class=\"tag\" href=\"/tag/humor/page/1/\">humor</a>,\n",
       " <a class=\"tag\" href=\"/tag/obvious/page/1/\">obvious</a>,\n",
       " <a class=\"tag\" href=\"/tag/simile/page/1/\">simile</a>,\n",
       " <a href=\"/page/2/\">Next <span aria-hidden=\"true\">→</span></a>,\n",
       " <a class=\"tag\" href=\"/tag/love/\" style=\"font-size: 28px\">love</a>,\n",
       " <a class=\"tag\" href=\"/tag/inspirational/\" style=\"font-size: 26px\">inspirational</a>,\n",
       " <a class=\"tag\" href=\"/tag/life/\" style=\"font-size: 26px\">life</a>,\n",
       " <a class=\"tag\" href=\"/tag/humor/\" style=\"font-size: 24px\">humor</a>,\n",
       " <a class=\"tag\" href=\"/tag/books/\" style=\"font-size: 22px\">books</a>,\n",
       " <a class=\"tag\" href=\"/tag/reading/\" style=\"font-size: 14px\">reading</a>,\n",
       " <a class=\"tag\" href=\"/tag/friendship/\" style=\"font-size: 10px\">friendship</a>,\n",
       " <a class=\"tag\" href=\"/tag/friends/\" style=\"font-size: 8px\">friends</a>,\n",
       " <a class=\"tag\" href=\"/tag/truth/\" style=\"font-size: 8px\">truth</a>,\n",
       " <a class=\"tag\" href=\"/tag/simile/\" style=\"font-size: 6px\">simile</a>,\n",
       " <a href=\"https://www.goodreads.com/quotes\">GoodReads.com</a>,\n",
       " <a class=\"zyte\" href=\"https://www.zyte.com\">Zyte</a>]"
      ]
     },
     "execution_count": 3,
     "metadata": {},
     "output_type": "execute_result"
    }
   ],
   "source": [
    "import requests \n",
    "from bs4 import BeautifulSoup\n",
    "headers = {\"User-Agent\":'Mozilla/5.0 (Windows NT 10.0; Win64; x64) AppleWebKit/537.36 (KHTML, like Gecko) Chrome/80.0.3987.87 Safari/537.36'}\n",
    "url = 'http://quotes.toscrape.com/' \n",
    "soup = BeautifulSoup(requests.get(url, verify=False, headers = headers).text, 'html.parser')\n",
    "\n",
    "soup.find_all('a')\n",
    "#for i in soup.find_all('div',{\"class\":\"quote\"}):\n",
    " #   print(i.find('a').get('href')) # a 찾기 \n"
   ]
  },
  {
   "cell_type": "markdown",
   "id": "78d187ca",
   "metadata": {},
   "source": [
    "# URL은 어떻게 생겼나 확인\n",
    "- 브라우저에서 url 정보 확인하기 \n",
    "- 어떤 부분을 바꿀 수 있는지 확인"
   ]
  },
  {
   "cell_type": "code",
   "execution_count": 9,
   "id": "f213df37",
   "metadata": {},
   "outputs": [
    {
     "name": "stdout",
     "output_type": "stream",
     "text": [
      "“The world as we have created it is a process of our thinking. It cannot be changed without changing our thinking.”\n",
      "“It is our choices, Harry, that show what we truly are, far more than our abilities.”\n",
      "“There are only two ways to live your life. One is as though nothing is a miracle. The other is as though everything is a miracle.”\n",
      "“The person, be it gentleman or lady, who has not pleasure in a good novel, must be intolerably stupid.”\n",
      "“Imperfection is beauty, madness is genius and it's better to be absolutely ridiculous than absolutely boring.”\n",
      "“Try not to become a man of success. Rather become a man of value.”\n",
      "“It is better to be hated for what you are than to be loved for what you are not.”\n",
      "“I have not failed. I've just found 10,000 ways that won't work.”\n",
      "“A woman is like a tea bag; you never know how strong it is until it's in hot water.”\n",
      "“A day without sunshine is like, you know, night.”\n"
     ]
    }
   ],
   "source": [
    "#명언만 추출하기 \n",
    "for i in soup.find_all('div',{\"class\":\"quote\"}):\n",
    "    try:\n",
    "        print(i.find('span',{'class':'text'}).text)\n",
    "    except UnicodeEncodeError as e:\n",
    "        print(f\"Error encoding character: {e}\")\n",
    "        # 유니코드 인코드 에러는 챗GPT로 해결 "
   ]
  },
  {
   "cell_type": "markdown",
   "id": "171fa1c6",
   "metadata": {},
   "source": [
    "# 다음 사전에서 life의 뜻과 예문 찾기 \n",
    "- 사이트 살펴보기\n",
    "- url 조사하기 "
   ]
  },
  {
   "cell_type": "code",
   "execution_count": 16,
   "id": "8b854dde",
   "metadata": {
    "collapsed": true
   },
   "outputs": [
    {
     "name": "stderr",
     "output_type": "stream",
     "text": [
      "C:\\Users\\skytr\\anaconda3\\lib\\site-packages\\urllib3\\connectionpool.py:1045: InsecureRequestWarning: Unverified HTTPS request is being made to host 'dic.daum.net'. Adding certificate verification is strongly advised. See: https://urllib3.readthedocs.io/en/1.26.x/advanced-usage.html#ssl-warnings\n",
      "  warnings.warn(\n"
     ]
    },
    {
     "name": "stdout",
     "output_type": "stream",
     "text": [
      "삶\n",
      "생활\n",
      "생명\n",
      "인생\n",
      "수명\n",
      "생명\n",
      "(단수형) 생존 기간\n",
      "인생\n",
      "일생의\n",
      "생명의\n",
      "라이프\n",
      "라이프 해크(특히 개인의 일상생활에서 문제 해결, 과제 단순화, 좌절감 축소 등을 위해 하는 모든 행동 또는 조처)\n",
      "(한정적) 실제인\n",
      "현실 그대로의\n",
      "실제로 있었던\n",
      "(사회적) 지위\n",
      "계급\n",
      "직업\n",
      "생활 양식\n",
      "사는 보람\n",
      "life\n",
      "the life\n",
      "the soul\n",
      "life\n",
      "one's life\n",
      "life\n",
      "existence\n",
      "livelihood\n",
      "living\n",
      "subsistence\n",
      "life\n",
      "wear\n",
      "man's life span\n",
      "durability\n",
      "the span of life\n",
      "life\n",
      "vitality\n",
      "vigor\n",
      "animation\n",
      "spirit\n",
      "\n",
      "\n",
      "\n",
      "\n",
      "This exhibition will give you an opportunity to explore the life of Gauguin.\n",
      "(Junior Edu times) \n",
      "\n",
      "이번 전시회는 당신에게 고갱의 삶을 탐험할 수 있는 기회를 제공할 것이다.\n",
      "\n",
      "\n",
      "\n",
      "소리듣기\n",
      "\n",
      "\n",
      "\n",
      "\n",
      "\n",
      "Scientists want to know if life ever lived on Mars.\n",
      "(Kids Edu times) \n",
      "\n",
      "과학자들은 화성에 생물이 존재한 적이 있었는지를 알고 싶어한다.\n",
      "\n",
      "\n",
      "\n",
      "소리듣기\n",
      "\n",
      "\n",
      "\n",
      "\n",
      "\n",
      "With their recent success, many observers are hoping that the talented sibling duo will breathe new life into the K-Pop industry.\n",
      "(Junior Edu times) \n",
      "\n",
      "최근 그들의 성공을 통해 많은 대중들은 재능 있는 남매 2인조가 한국 가요계의 새로운 바람을 불어 넣길 희망 하고 있다\n",
      "\n",
      "\n",
      "\n",
      "소리듣기\n",
      "\n",
      "\n",
      "\n",
      "\n",
      "\n",
      "While healing their bodies distressed from daily life, people also enjoy charcoal-cooked foods.\n",
      "(Junior Edu times) \n",
      "\n",
      "일상생활에서 지친 몸을 치유하는 동안, 사람들은 숯으로 요리한 음식들을 먹는 것 또한 즐긴다.\n",
      "\n",
      "\n",
      "\n",
      "소리듣기\n",
      "\n",
      "\n",
      "\n",
      "\n",
      "\n",
      "To understand the art after the 19th century, we should investigate the life of Paul Gauguin and his art.\n",
      "(Edu times) \n",
      "\n",
      "19세기 이후의 미술에 대해서 이해하려면 폴 고갱의 삶과 그의 미술에 대해서 탐구해봐야 할 것이다.\n",
      "\n",
      "\n",
      "\n",
      "소리듣기\n",
      "\n",
      "\n",
      "\n"
     ]
    }
   ],
   "source": [
    "url = 'https://dic.daum.net/search.do?q=life&dic=eng' \n",
    "soup = BeautifulSoup(requests.get(url, verify=False, headers = headers).text, 'html.parser')\n",
    "\n",
    "# 뜻 찾기 \n",
    "for i in soup.find_all('span',{\"class\":\"txt_search\"}):\n",
    "    print(i.text)\n",
    "     \n",
    "#예문 찾기 \n",
    "for i in soup.find_all('ul',{\"class\":\"list_example sound_example\"}):\n",
    "    print(i.text)"
   ]
  },
  {
   "cell_type": "markdown",
   "id": "14c507a1",
   "metadata": {},
   "source": [
    "## 네이버에서 경제"
   ]
  },
  {
   "cell_type": "code",
   "execution_count": 2,
   "id": "1a219b72",
   "metadata": {},
   "outputs": [
    {
     "ename": "NameError",
     "evalue": "name 'requests' is not defined",
     "output_type": "error",
     "traceback": [
      "\u001b[1;31m---------------------------------------------------------------------------\u001b[0m",
      "\u001b[1;31mNameError\u001b[0m                                 Traceback (most recent call last)",
      "Cell \u001b[1;32mIn[2], line 4\u001b[0m\n\u001b[0;32m      2\u001b[0m \u001b[38;5;66;03m# 기본 세 줄을 붙여 넣으면 soup가 생성됩니다. \u001b[39;00m\n\u001b[0;32m      3\u001b[0m headers \u001b[38;5;241m=\u001b[39m {\u001b[38;5;124m\"\u001b[39m\u001b[38;5;124mUser-Agent\u001b[39m\u001b[38;5;124m\"\u001b[39m:\u001b[38;5;124m'\u001b[39m\u001b[38;5;124mMozilla/5.0 (Windows NT 10.0; Win64; x64) AppleWebKit/537.36 (KHTML, like Gecko) Chrome/80.0.3987.87 Safari/537.36\u001b[39m\u001b[38;5;124m'\u001b[39m}\n\u001b[1;32m----> 4\u001b[0m res \u001b[38;5;241m=\u001b[39m \u001b[43mrequests\u001b[49m\u001b[38;5;241m.\u001b[39mget(url, headers \u001b[38;5;241m=\u001b[39m headers)\n\u001b[0;32m      5\u001b[0m soup \u001b[38;5;241m=\u001b[39m BeautifulSoup(res\u001b[38;5;241m.\u001b[39mtext, \u001b[38;5;124m'\u001b[39m\u001b[38;5;124mlxml\u001b[39m\u001b[38;5;124m'\u001b[39m)  \n\u001b[0;32m      7\u001b[0m \u001b[38;5;66;03m#def로 url을 입력하면 soup를 생성하는 함수 만들기 \u001b[39;00m\n",
      "\u001b[1;31mNameError\u001b[0m: name 'requests' is not defined"
     ]
    }
   ],
   "source": [
    "url='https://news.naver.com/main/main.naver?mode=LSD&mid=shm&sid1=101'\n",
    "# 기본 세 줄을 붙여 넣으면 soup가 생성됩니다. \n",
    "headers = {\"User-Agent\":'Mozilla/5.0 (Windows NT 10.0; Win64; x64) AppleWebKit/537.36 (KHTML, like Gecko) Chrome/80.0.3987.87 Safari/537.36'}\n",
    "res = requests.get(url, headers = headers)\n",
    "soup = BeautifulSoup(res.text, 'lxml')  \n",
    "\n",
    "#def로 url을 입력하면 soup를 생성하는 함수 만들기 \n",
    "def soupMaker(url):\n",
    "    headers = {\"User-Agent\":'Mozilla/5.0 (Windows NT 10.0; Win64; x64) AppleWebKit/537.36 (KHTML, like Gecko) Chrome/80.0.3987.87 Safari/537.36'}\n",
    "    res = requests.get(url, headers = headers)\n",
    "    return BeautifulSoup(res.text, 'lxml') \n",
    "    \n",
    "soup = soupMaker(url)\n",
    "\n",
    "# 특정 클래스 속성을 출력하기\n",
    "for i in soup.find_all('div', {\"class\" : \"sh_text\"})[:10]:\n",
    "    # 링크로 연결된 a태그의 텍스트 찾기\n",
    "    url2 = i.find('a').get('href') #링크 주소 찾기 \n",
    "    print(i.find('a').text, url2) \n",
    "    # 주소 얻기 \n",
    "    soup2 = soupMaker(url2)\n",
    "    for j in soup2.find_all('div', {\"id\" : \"dic_area\"}):\n",
    "        try:\n",
    "            print(j.text)\n",
    "        except UnicodeEncodeError as e:\n",
    "            print(f\"Error encoding character: {e}\")\n",
    "        # 유니코드 인코드 에러는 챗GPT로 해결 "
   ]
  },
  {
   "cell_type": "markdown",
   "id": "0f4f9c75",
   "metadata": {},
   "source": [
    "# 공공데이터에서 데이터 찾기 \n",
    "- 찾은 다음에 크롤링\n",
    "- 주식손익계산서 찾기(feat. 법인등록번호)\n",
    "https://apis.data.go.kr/1160100/service/GetFinaStatInfoService_V2/getIncoStat_V2?serviceKey=7JlKxM7fEbOErQRa32MtR3%2Fg%2FBxi3JTPbwPfCw781Ma4uvwql5x2r2wM0Zh051RRUK%2Bw7YSwijxr0Tklej3cOg%3D%3D&numOfRows=1&pageNo=1&resultType=xml&bizYear=2022&crno=1350110034038\n",
    "\n"
   ]
  },
  {
   "cell_type": "code",
   "execution_count": 21,
   "id": "aeaec477",
   "metadata": {},
   "outputs": [
    {
     "name": "stdout",
     "output_type": "stream",
     "text": [
      "영업이익\n",
      "722339893641\n",
      "744176850301\n"
     ]
    }
   ],
   "source": [
    "import re \n",
    "num = '1350110034038'\n",
    "#국회도서관 api 키를 공공데이터서비스에서 받아서 사용 중(아직까지 트래픽 이슈는 없음)\n",
    "# url 법인등록번호 빼고\n",
    "url = 'https://apis.data.go.kr/1160100/service/GetFinaStatInfoService_V2/getIncoStat_V2?serviceKey=7JlKxM7fEbOErQRa32MtR3%2Fg%2FBxi3JTPbwPfCw781Ma4uvwql5x2r2wM0Zh051RRUK%2Bw7YSwijxr0Tklej3cOg%3D%3D&numOfRows=1&pageNo=1&resultType=xml&bizYear=2022&crno='\n",
    "url = url + num\n",
    "#def로 url을 입력하면 soup를 생성하는 함수 만들기 \n",
    "def soupMaker(url):\n",
    "    headers = {\"User-Agent\":'Mozilla/5.0 (Windows NT 10.0; Win64; x64) AppleWebKit/537.36 (KHTML, like Gecko) Chrome/80.0.3987.87 Safari/537.36'}\n",
    "    res = requests.get(url, headers = headers)\n",
    "    return BeautifulSoup(res.text, 'lxml') \n",
    "    \n",
    "soup = soupMaker(url)\n",
    "#### 주의: 변수는 모두 소문자여야 함!!!!!!!!!!!!!!!!!!\n",
    "# 영업이익 여부\n",
    "print(soup.find('acitnm').text)\n",
    "# 당기\n",
    "print(soup.find('bpvtracitamt').text)\n",
    "# 전기 \n",
    "print(soup.find('pvtracitamt').text)"
   ]
  },
  {
   "cell_type": "code",
   "execution_count": 25,
   "id": "ac85d675",
   "metadata": {},
   "outputs": [
    {
     "name": "stdout",
     "output_type": "stream",
     "text": [
      "초고속 인터커넥트 기술 선도, 유니콘 도약 장밋빛 : (주)퀄리타스반도체 / 신용사회. 신용사회.\n",
      "초고속 인터커넥트 기술 선도, 유니콘 도약 장밋빛 : (주)퀄리타스반도체 / 퀄리타스반도체 인터커넥트IP 반도체공정 제품설계 금융경제\n"
     ]
    }
   ],
   "source": [
    "import re \n",
    "Name = '김동관'\n",
    "#국회도서관 api 키를 공공데이터서비스에서 받아서 사용 중(아직까지 트래픽 이슈는 없음)\n",
    "url = 'https://apis.data.go.kr/9720000/searchservice/basic?serviceKey=7JlKxM7fEbOErQRa32MtR3%2Fg%2FBxi3JTPbwPfCw781Ma4uvwql5x2r2wM0Zh051RRUK%2Bw7YSwijxr0Tklej3cOg%3D%3D&pageno=1&displaylines=10&search=저자,'+Name \n",
    "#def로 url을 입력하면 soup를 생성하는 함수 만들기 \n",
    "def soupMaker(url):\n",
    "    headers = {\"User-Agent\":'Mozilla/5.0 (Windows NT 10.0; Win64; x64) AppleWebKit/537.36 (KHTML, like Gecko) Chrome/80.0.3987.87 Safari/537.36'}\n",
    "    res = requests.get(url, headers = headers)\n",
    "    return BeautifulSoup(res.text, 'lxml') \n",
    "    \n",
    "soup = soupMaker(url)\n",
    " \n",
    "dataset = [i.find('value').text for i in soup.find_all(\"item\") ] \n",
    "\n",
    "for i in dataset[:10]:\n",
    "    if re.search('[각-힣]+ [각-힣]+', i):\n",
    "        print (i)\n",
    "    else:\n",
    "        pass\n",
    "\n",
    " "
   ]
  }
 ],
 "metadata": {
  "kernelspec": {
   "display_name": "Python 3 (ipykernel)",
   "language": "python",
   "name": "python3"
  },
  "language_info": {
   "codemirror_mode": {
    "name": "ipython",
    "version": 3
   },
   "file_extension": ".py",
   "mimetype": "text/x-python",
   "name": "python",
   "nbconvert_exporter": "python",
   "pygments_lexer": "ipython3",
   "version": "3.10.9"
  }
 },
 "nbformat": 4,
 "nbformat_minor": 5
}
