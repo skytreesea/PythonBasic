{
 "cells": [
  {
   "cell_type": "markdown",
   "id": "92eb0e75",
   "metadata": {},
   "source": [
    "# 웹크롤링 실습 \n",
    "- HTML 기본 이해하기: 태그와 속성 등\n",
    "- 웹의 작동방식 \n",
    "- 명언에서 a 태그 내용 얻기 \n",
    "- 기사 내용 크롤링 \n",
    "- API를 활용한 크롤링\n"
   ]
  },
  {
   "cell_type": "markdown",
   "id": "9678efaa",
   "metadata": {},
   "source": [
    "## HTML 의 정의와 기본 실습\n",
    "- \\<!DOCTYPE html>: 이 문서가 HTML5를 사용한다고 선언하는 선언부입니다.\n",
    "- \\<html>: HTML 문서의 시작을 나타내는 태그로, 모든 HTML 요소들을 감싸는 최상위 요소입니다.\n",
    "- \\<head>: 문서의 메타 정보를 정의하는 부분으로, 웹 브라우저에 표시되지 않습니다. 문서 제목과 같은 정보가 여기에 위치합니다.\n",
    "- \\<title>: 웹 브라우저의 탭에 표시될 문서의 제목을 정의하는 태그입니다.\n",
    "- \\<body>: 실제 웹 페이지의 내용이 위치하는 부분으로, 사용자에게 보여집니다.\n",
    "- \\<h1>: 큰 제목을 정의하는 태그입니다. (h1부터 h6까지 사용 가능)\n",
    "- \\<p>: 단락을 정의하는 태그입니다.\n",
    "- \\<a>: 링크를 생성하는 태그로, href 속성을 사용하여 링크의 대상 URL을 지정합니다.\n",
    "- \\<img>: 이미지를 삽입하는 태그로, src 속성을 사용하여 이미지 파일의 경로를 지정하고, alt 속성은 이미지에 대한 설명을 제공합니다. 이미지 파일이 없을 경우에도 이 속성을 사용해야 합니다.\n",
    "\n",
    "### 태그와 속성 개념 이해하기 \n",
    "- a 태그: \\<a href=\"www.example.com\" > \\</a>\n",
    "- 속성: href(하이퍼링크 참조)\n",
    "\n",
    "##  HTML 파일 직접 만들어보기 \n",
    "- HTML 문법을 작성한다. \n",
    "- .html 로 저장한다. \n",
    "- 실행한다(브라우져로 연다). \n",
    "- [명언사이트](http://quotes.toscrape.com/)를 통해 실습"
   ]
  },
  {
   "cell_type": "raw",
   "id": "4ba006e8",
   "metadata": {},
   "source": [
    "<!DOCTYPE html>\n",
    "<html>\n",
    "<head>\n",
    "    <title>내 첫 번째 HTML 문서</title>\n",
    "</head>\n",
    "<body>\n",
    "    <h1>안녕, 세상!</h1>\n",
    "    <p>이것은 첫 번째 단락입니다.</p>\n",
    "    <p>이것은 두 번째 단락입니다.</p>\n",
    "    <a href=\"https://www.example.com\">이것은 링크입니다.</a>\n",
    "    <img src=\"이미지파일.jpg\" alt=\"이미지 설명\">\n",
    "</body>\n",
    "</html>"
   ]
  },
  {
   "cell_type": "markdown",
   "id": "962f11b0",
   "metadata": {},
   "source": [
    "## 가장 먼저 할 일 \n",
    "- beautifulsoup 설치하기 \n",
    "- requests로 기본명령어 수행하기 \n",
    "- a 태그 안 주소 추출"
   ]
  },
  {
   "cell_type": "code",
   "execution_count": 1,
   "id": "8a726de4",
   "metadata": {
    "scrolled": true
   },
   "outputs": [
    {
<<<<<<< HEAD
     "ename": "ModuleNotFoundError",
     "evalue": "No module named 'requests'",
     "output_type": "error",
     "traceback": [
      "\u001b[1;31m---------------------------------------------------------------------------\u001b[0m",
      "\u001b[1;31mModuleNotFoundError\u001b[0m                       Traceback (most recent call last)",
      "Cell \u001b[1;32mIn[1], line 1\u001b[0m\n\u001b[1;32m----> 1\u001b[0m \u001b[39mimport\u001b[39;00m \u001b[39mrequests\u001b[39;00m \n\u001b[0;32m      2\u001b[0m \u001b[39mfrom\u001b[39;00m \u001b[39mbs4\u001b[39;00m \u001b[39mimport\u001b[39;00m BeautifulSoup\n\u001b[0;32m      3\u001b[0m headers \u001b[39m=\u001b[39m {\u001b[39m\"\u001b[39m\u001b[39mUser-Agent\u001b[39m\u001b[39m\"\u001b[39m:\u001b[39m'\u001b[39m\u001b[39mMozilla/5.0 (Windows NT 10.0; Win64; x64) AppleWebKit/537.36 (KHTML, like Gecko) Chrome/80.0.3987.87 Safari/537.36\u001b[39m\u001b[39m'\u001b[39m}\n",
      "\u001b[1;31mModuleNotFoundError\u001b[0m: No module named 'requests'"
     ]
=======
     "data": {
      "text/plain": [
       "[<a href=\"/\" style=\"text-decoration: none\">Quotes to Scrape</a>,\n",
       " <a href=\"/login\">Login</a>,\n",
       " <a href=\"/author/Albert-Einstein\">(about)</a>,\n",
       " <a class=\"tag\" href=\"/tag/change/page/1/\">change</a>,\n",
       " <a class=\"tag\" href=\"/tag/deep-thoughts/page/1/\">deep-thoughts</a>,\n",
       " <a class=\"tag\" href=\"/tag/thinking/page/1/\">thinking</a>,\n",
       " <a class=\"tag\" href=\"/tag/world/page/1/\">world</a>,\n",
       " <a href=\"/author/J-K-Rowling\">(about)</a>,\n",
       " <a class=\"tag\" href=\"/tag/abilities/page/1/\">abilities</a>,\n",
       " <a class=\"tag\" href=\"/tag/choices/page/1/\">choices</a>,\n",
       " <a href=\"/author/Albert-Einstein\">(about)</a>,\n",
       " <a class=\"tag\" href=\"/tag/inspirational/page/1/\">inspirational</a>,\n",
       " <a class=\"tag\" href=\"/tag/life/page/1/\">life</a>,\n",
       " <a class=\"tag\" href=\"/tag/live/page/1/\">live</a>,\n",
       " <a class=\"tag\" href=\"/tag/miracle/page/1/\">miracle</a>,\n",
       " <a class=\"tag\" href=\"/tag/miracles/page/1/\">miracles</a>,\n",
       " <a href=\"/author/Jane-Austen\">(about)</a>,\n",
       " <a class=\"tag\" href=\"/tag/aliteracy/page/1/\">aliteracy</a>,\n",
       " <a class=\"tag\" href=\"/tag/books/page/1/\">books</a>,\n",
       " <a class=\"tag\" href=\"/tag/classic/page/1/\">classic</a>,\n",
       " <a class=\"tag\" href=\"/tag/humor/page/1/\">humor</a>,\n",
       " <a href=\"/author/Marilyn-Monroe\">(about)</a>,\n",
       " <a class=\"tag\" href=\"/tag/be-yourself/page/1/\">be-yourself</a>,\n",
       " <a class=\"tag\" href=\"/tag/inspirational/page/1/\">inspirational</a>,\n",
       " <a href=\"/author/Albert-Einstein\">(about)</a>,\n",
       " <a class=\"tag\" href=\"/tag/adulthood/page/1/\">adulthood</a>,\n",
       " <a class=\"tag\" href=\"/tag/success/page/1/\">success</a>,\n",
       " <a class=\"tag\" href=\"/tag/value/page/1/\">value</a>,\n",
       " <a href=\"/author/Andre-Gide\">(about)</a>,\n",
       " <a class=\"tag\" href=\"/tag/life/page/1/\">life</a>,\n",
       " <a class=\"tag\" href=\"/tag/love/page/1/\">love</a>,\n",
       " <a href=\"/author/Thomas-A-Edison\">(about)</a>,\n",
       " <a class=\"tag\" href=\"/tag/edison/page/1/\">edison</a>,\n",
       " <a class=\"tag\" href=\"/tag/failure/page/1/\">failure</a>,\n",
       " <a class=\"tag\" href=\"/tag/inspirational/page/1/\">inspirational</a>,\n",
       " <a class=\"tag\" href=\"/tag/paraphrased/page/1/\">paraphrased</a>,\n",
       " <a href=\"/author/Eleanor-Roosevelt\">(about)</a>,\n",
       " <a class=\"tag\" href=\"/tag/misattributed-eleanor-roosevelt/page/1/\">misattributed-eleanor-roosevelt</a>,\n",
       " <a href=\"/author/Steve-Martin\">(about)</a>,\n",
       " <a class=\"tag\" href=\"/tag/humor/page/1/\">humor</a>,\n",
       " <a class=\"tag\" href=\"/tag/obvious/page/1/\">obvious</a>,\n",
       " <a class=\"tag\" href=\"/tag/simile/page/1/\">simile</a>,\n",
       " <a href=\"/page/2/\">Next <span aria-hidden=\"true\">→</span></a>,\n",
       " <a class=\"tag\" href=\"/tag/love/\" style=\"font-size: 28px\">love</a>,\n",
       " <a class=\"tag\" href=\"/tag/inspirational/\" style=\"font-size: 26px\">inspirational</a>,\n",
       " <a class=\"tag\" href=\"/tag/life/\" style=\"font-size: 26px\">life</a>,\n",
       " <a class=\"tag\" href=\"/tag/humor/\" style=\"font-size: 24px\">humor</a>,\n",
       " <a class=\"tag\" href=\"/tag/books/\" style=\"font-size: 22px\">books</a>,\n",
       " <a class=\"tag\" href=\"/tag/reading/\" style=\"font-size: 14px\">reading</a>,\n",
       " <a class=\"tag\" href=\"/tag/friendship/\" style=\"font-size: 10px\">friendship</a>,\n",
       " <a class=\"tag\" href=\"/tag/friends/\" style=\"font-size: 8px\">friends</a>,\n",
       " <a class=\"tag\" href=\"/tag/truth/\" style=\"font-size: 8px\">truth</a>,\n",
       " <a class=\"tag\" href=\"/tag/simile/\" style=\"font-size: 6px\">simile</a>,\n",
       " <a href=\"https://www.goodreads.com/quotes\">GoodReads.com</a>,\n",
       " <a class=\"zyte\" href=\"https://www.zyte.com\">Zyte</a>]"
      ]
     },
     "execution_count": 1,
     "metadata": {},
     "output_type": "execute_result"
>>>>>>> 8f0a263 (update ipynb)
    }
   ],
   "source": [
    "import requests \n",
    "from bs4 import BeautifulSoup\n",
    "headers = {\"User-Agent\":'Mozilla/5.0 (Windows NT 10.0; Win64; x64) AppleWebKit/537.36 (KHTML, like Gecko) Chrome/80.0.3987.87 Safari/537.36'}\n",
    "url = 'http://quotes.toscrape.com/' \n",
    "soup = BeautifulSoup(requests.get(url, verify=False, headers = headers).text, 'html.parser')\n",
    "\n",
    "soup.find_all('a')\n",
    "#for i in soup.find_all('div',{\"class\":\"quote\"}):\n",
    " #   print(i.find('a').get('href')) # a 찾기 \n"
   ]
  },
  {
   "cell_type": "markdown",
   "id": "78d187ca",
   "metadata": {},
   "source": [
    "# URL은 어떻게 생겼나 확인\n",
    "- 브라우저에서 url 정보 확인하기 \n",
    "- 어떤 부분을 바꿀 수 있는지 확인"
   ]
  },
  {
   "cell_type": "code",
   "execution_count": 3,
   "id": "f213df37",
   "metadata": {},
   "outputs": [
    {
     "name": "stdout",
     "output_type": "stream",
     "text": [
      "“The world as we have created it is a process of our thinking. It cannot be changed without changing our thinking.”\n",
      "“It is our choices, Harry, that show what we truly are, far more than our abilities.”\n",
      "“There are only two ways to live your life. One is as though nothing is a miracle. The other is as though everything is a miracle.”\n",
      "“The person, be it gentleman or lady, who has not pleasure in a good novel, must be intolerably stupid.”\n",
      "“Imperfection is beauty, madness is genius and it's better to be absolutely ridiculous than absolutely boring.”\n",
      "“Try not to become a man of success. Rather become a man of value.”\n",
      "“It is better to be hated for what you are than to be loved for what you are not.”\n",
      "“I have not failed. I've just found 10,000 ways that won't work.”\n",
      "“A woman is like a tea bag; you never know how strong it is until it's in hot water.”\n",
      "“A day without sunshine is like, you know, night.”\n"
     ]
    }
   ],
   "source": [
    "#명언만 추출하기 \n",
    "for i in soup.find_all('div',{\"class\":\"quote\"}):\n",
    "    print(i.find('span',{'class':'text'}).text) "
   ]
  },
  {
   "cell_type": "markdown",
   "id": "01bbf439",
   "metadata": {},
   "source": [
    "## def로 웹페이지 크롤링 함수화하기 \n",
    "1. url만 입력 시 soup를 만들도록 함\n",
    "2. def문을 활용함\n",
    "3. 예제 사이트 www.example.com"
   ]
  },
  {
   "cell_type": "code",
   "execution_count": 17,
   "id": "69f0787e",
   "metadata": {},
   "outputs": [
    {
     "data": {
      "text/plain": [
       "'https://www.iana.org/domains/example'"
      ]
     },
     "execution_count": 17,
     "metadata": {},
     "output_type": "execute_result"
    }
   ],
   "source": [
    "url='https://www.example.com/'\n",
    "# 기본 세 줄을 붙여 넣으면 soup가 생성됩니다. \n",
    "headers = {\"User-Agent\":'Mozilla/5.0 (Windows NT 10.0; Win64; x64) AppleWebKit/537.36 (KHTML, like Gecko) Chrome/80.0.3987.87 Safari/537.36'}\n",
    "res = requests.get(url, headers = headers)\n",
    "soup = BeautifulSoup(res.text, 'lxml')  \n",
    "\n",
    "#def로 url을 입력하면 soup를 생성하는 함수 만들기 \n",
    "def soupMaker(url):\n",
    "    headers = {\"User-Agent\":'Mozilla/5.0 (Windows NT 10.0; Win64; x64) AppleWebKit/537.36 (KHTML, like Gecko) Chrome/80.0.3987.87 Safari/537.36'}\n",
    "    res = requests.get(url, headers = headers)\n",
    "    return BeautifulSoup(res.text, 'lxml') \n",
    "    \n",
    "soup = soupMaker(url)\n",
    "\n",
    "# a태그 얻기\n",
    "soup.select('a')[0].get('href')\n"
   ]
  },
  {
   "cell_type": "markdown",
   "id": "171fa1c6",
   "metadata": {},
   "source": [
    "# 다음 사전에서 life의 뜻과 예문 찾기 \n",
    "- 사이트 살펴보기\n",
    "- url 조사하기 "
   ]
  },
  {
   "cell_type": "code",
   "execution_count": 4,
   "id": "8b854dde",
   "metadata": {},
   "outputs": [
    {
     "name": "stderr",
     "output_type": "stream",
     "text": [
      "C:\\Users\\skytr\\anaconda3\\lib\\site-packages\\urllib3\\connectionpool.py:1045: InsecureRequestWarning: Unverified HTTPS request is being made to host 'dic.daum.net'. Adding certificate verification is strongly advised. See: https://urllib3.readthedocs.io/en/1.26.x/advanced-usage.html#ssl-warnings\n",
      "  warnings.warn(\n"
     ]
    },
    {
     "name": "stdout",
     "output_type": "stream",
     "text": [
      "삶\n",
      "생활\n",
      "생명\n",
      "인생\n",
      "수명\n",
      "생명\n",
      "(단수형) 생존 기간\n",
      "인생\n",
      "일생의\n",
      "생명의\n",
      "라이프\n",
      "라이프 해크(특히 개인의 일상생활에서 문제 해결, 과제 단순화, 좌절감 축소 등을 위해 하는 모든 행동 또는 조처)\n",
      "(한정적) 실제인\n",
      "현실 그대로의\n",
      "실제로 있었던\n",
      "(사회적) 지위\n",
      "계급\n",
      "직업\n",
      "생활 양식\n",
      "사는 보람\n",
      "life\n",
      "the life\n",
      "the soul\n",
      "life\n",
      "existence\n",
      "livelihood\n",
      "living\n",
      "subsistence\n",
      "life\n",
      "one's life\n",
      "life\n",
      "wear\n",
      "man's life span\n",
      "durability\n",
      "the span of life\n",
      "life\n",
      "vitality\n",
      "vigor\n",
      "animation\n",
      "spirit\n",
      "\n",
      "\n",
      "\n",
      "\n",
      "This exhibition will give you an opportunity to explore the life of Gauguin.\n",
      "(Junior Edu times) \n",
      "\n",
      "이번 전시회는 당신에게 고갱의 삶을 탐험할 수 있는 기회를 제공할 것이다.\n",
      "\n",
      "\n",
      "\n",
      "소리듣기\n",
      "\n",
      "\n",
      "\n",
      "\n",
      "\n",
      "Scientists want to know if life ever lived on Mars.\n",
      "(Kids Edu times) \n",
      "\n",
      "과학자들은 화성에 생물이 존재한 적이 있었는지를 알고 싶어한다.\n",
      "\n",
      "\n",
      "\n",
      "소리듣기\n",
      "\n",
      "\n",
      "\n",
      "\n",
      "\n",
      "With their recent success, many observers are hoping that the talented sibling duo will breathe new life into the K-Pop industry.\n",
      "(Junior Edu times) \n",
      "\n",
      "최근 그들의 성공을 통해 많은 대중들은 재능 있는 남매 2인조가 한국 가요계의 새로운 바람을 불어 넣길 희망 하고 있다\n",
      "\n",
      "\n",
      "\n",
      "소리듣기\n",
      "\n",
      "\n",
      "\n",
      "\n",
      "\n",
      "While healing their bodies distressed from daily life, people also enjoy charcoal-cooked foods.\n",
      "(Junior Edu times) \n",
      "\n",
      "일상생활에서 지친 몸을 치유하는 동안, 사람들은 숯으로 요리한 음식들을 먹는 것 또한 즐긴다.\n",
      "\n",
      "\n",
      "\n",
      "소리듣기\n",
      "\n",
      "\n",
      "\n",
      "\n",
      "\n",
      "Students can adjust to school life easily with the help of seniors.\n",
      "(Kids Edu times) \n",
      "\n",
      "학생들은 선배들의 도움을 통해 학교 생활에 쉽게 적응할 수 있다.\n",
      "\n",
      "\n",
      "\n",
      "소리듣기\n",
      "\n",
      "\n",
      "\n"
     ]
    }
   ],
   "source": [
    "url = 'https://dic.daum.net/search.do?q=life&dic=eng' \n",
    "soup = BeautifulSoup(requests.get(url, verify=False, headers = headers).text, 'html.parser')\n",
    "\n",
    "# 뜻 찾기 \n",
    "for i in soup.find_all('span',{\"class\":\"txt_search\"}):\n",
    "    print(i.text)\n",
    "     \n",
    "#예문 찾기 \n",
    "for i in soup.find_all('ul',{\"class\":\"list_example sound_example\"}):\n",
    "    print(i.text)"
   ]
  },
  {
   "cell_type": "markdown",
   "id": "14c507a1",
   "metadata": {},
   "source": [
    "## 네이버에서 경제 뉴스 크롤링\n",
    "1. 경제 뉴스에서 href를 얻음\n",
    "2. href에 자동으로 연결되게 함 \n",
    "3. 해당 기사의 내용을 출력 \n",
    "4. 먼저 단일 기사 출력해보기 'https://n.news.naver.com/mnews/article/015/0004871030?sid=105'"
   ]
  },
  {
   "cell_type": "code",
   "execution_count": 47,
   "id": "e6375709",
   "metadata": {
    "scrolled": true
   },
   "outputs": [
    {
     "name": "stdout",
     "output_type": "stream",
     "text": [
      "\n",
      "\n",
      "아이폰14 프로 모델로 신곡 뮤직비디오 촬영\n",
      "\n",
      "\n",
      "\n",
      "애플 아이폰14 프로로 촬영한 뉴진스 신곡 뮤직비디오 / 사진=애플애플이 아이폰14프로 모델로 그룹 뉴진스의 신곡 'ETA' 뮤직비디오를 촬영했다고 밝혔다. 애플은 21일 이같이 알리며 아이폰 카메라의 '액션 모드'로 뉴진스의 댄스 장면을, '시네마틱 모드'로 깊이감 있는 영상미를 구현했다고 소개했다.'ETA' 뮤직비디오에서는 뉴진스 멤버들이 아이폰을 사용하는 모습도 담겨 있다. 뮤직비디오는 멤버들이 파티에서 공연을 하던 중 벌어지는 일을 콘셉트로 하는데, 멤버들은 공연하는 도중 틈틈이 남자 주인공의 모습을 아이폰으로 담아낸다.\n",
      "\n",
      "\n",
      "\n",
      "사진=뉴진스 'ETA' 뮤직비디오 캡처애플은 \"카메라가 흔들려도 영상이 안정적인 액션 모드를 활용해 아이폰14 프로 카메라가 K팝을 만났을 때 발휘할 수 있는 능력을 선보였다\"면서 \"누구나 별도 장비 없이 아이폰만으로 멋진 안무 영상을 찍을 수 있다는 것을 보여줬다\"고 설명했다. \n",
      "\n",
      "\n",
      "\n",
      "사진=뉴진스 'ETA' 뮤직비디오 캡처뮤직비디오 뿐 아니라 제작기를 담은 광고 영상 두 편도 공개된다. 애플은 그동안 꾸준히 단편 영화 등 아이폰의 카메라 기능을 강조하는 '아이폰으로 찍다' 캠페인을 진행해 왔다. 박찬욱 감독도 지난해 단편 영화 '일장춘몽'으로 캠페인에 참여한 바 있다. \n",
      "\n",
      "\n"
     ]
    }
   ],
   "source": [
    "# 뷰티풀수프\n",
    "from bs4 import BeautifulSoup \n",
    "import requests\n",
    "#기본명령\n",
    "url ='https://n.news.naver.com/mnews/article/015/0004871030?sid=105'\n",
    "headers = {\"User-Agent\":'Mozilla/5.0 (Windows NT 10.0; Win64; x64) AppleWebKit/537.36 (KHTML, like Gecko) Chrome/80.0.3987.87 Safari/537.36'}\n",
    "res = requests.get(url, headers = headers)\n",
    "soup = BeautifulSoup(res.text, 'lxml')\n",
    "\n",
    "#텍스트만 출력 \n",
    "for i in soup.find_all('div',{'id':'newsct_article'}):\n",
    "    print(i.text)\n"
   ]
  },
  {
   "cell_type": "code",
   "execution_count": 48,
   "id": "1a219b72",
   "metadata": {
    "scrolled": false
   },
   "outputs": [
    {
     "name": "stdout",
     "output_type": "stream",
     "text": [
      "두산에너빌리티, 자회사 설립해 '배터리 재활용' 사업 https://n.news.naver.com/mnews/article/003/0012001288?sid=101\n",
      "\n",
      "\n",
      "\n",
      "\n",
      "\n",
      "[서울=뉴시스]두산에너빌리티 CI(사진=두산에너빌리티 제공)[서울=뉴시스] 김동현 기자 = 두산에너빌리티가 고성장이 예상되는 배터리 재활용 시장 선점에 나섰다. 두산에너빌리티는 지난 27일 이사회를 열고 배터리 재활용을 전문으로 하는 자회사 '두산리사이클솔루션' 설립을 결정했다고 28일 밝혔다.글로벌 시장조사기관인 SNE 리서치에 따르면 전세계 배터리 재활용 시장은 2023년 현재 7000억원 규모에서 오는 2040년 87조원으로 120배 이상 성장할 것으로 전망된다. 두산에너빌리티는 2021년 폐배터리에서 리튬을 회수하는 기술을 자체 개발해 실증을 완료했다. 폐배터리 내부물질을 열처리하고, 증류수를 활용해 리튬을 분리한 뒤 결정화 기술을 통해 탄산리튬을 추출하는 방식이다. 두산리사이클솔루션은 원료 공급사들과 협력해 사업을 확대해 나갈 계획이다. 자회사 설립 후에는 상용 생산시설 구축하고 2025년 하반기부터 연간 약 3000톤 규모의 원료를 처리해 리튬을 회수할 예정이다.\n",
      "\n",
      "창원시, 한화‘레드백’장갑차 우선협상대상자 선정 환영 https://n.news.naver.com/mnews/article/011/0004219967?sid=101\n",
      "\n",
      "호주 질롱시와 '방산동맹' 결실, “지상에서 우주까지” Made-in-Changwon 무기 우수성 알려홍남표 시장 “한화에어로스페이스 레드백 우선협상대상자 선정 101만 시민과 함께 축하드려”\n",
      "\n",
      "\n",
      "\n",
      "2022년 9월 홍남표 창원시장이 앤드류 보트렐 호주 획득관리단(CASG) 레드백 책임자를 예방했다. /사진제공=창원시[서울경제] 창원시는 한화에어로스페이스가 호주 정부의 보병전투차량(IFV) 도입 사업의 우선협상대상자로 선정된 것에 101만 시민과 함께 축하한다고 밝혔다.이 사업은 호주군이 과거 도입한 미국제 M133 장갑차를 교체하기 위한 ‘랜드400 3단계’ 사업이다. 한화에어로스페이스가 독일 링스 장갑차와 경합 끝에 우선협상대상자로 최종 선정되었다. ‘레드백’ 장갑차는 한화에어로스페이스가 개발한 맞춤형 보병전투차량으로 호주 작전 운용환경에 최적화된 기능과 뛰어난 성능으로 현지에서 호평을 받은 것으로 알려졌다.계약 규모는 50억~70억 호주달러(4조~6조 원)로, 최종 계약시 호주군은 2027년부터 레드백 장갑차 129대를 배치한다. 이번 우선 협상대상자 선정으로 Made-in-Changwon 무기체계의 우수성을 전세계에 입증했고, 내년에 50주년을 맞이하는 창원 국가산단 활력제고와 지역 상권 활성화도 기대된다.창원시는 이번 수주전을 위해 많은 노력을 보탰다. 2021년 서울 ADEX에서 주한호주대사관과 ‘한·호주 방위산업 협력 세미나’ 공동 개최하였고, 2022년에는 호주 질롱시와 국제우호도시 협약을 체결하여 호주와 방산협력 물꼬를 텄다. 특히, 올해 5월에는 질롱시 제조위원회, 디킨대학교, 호주기업인 등으로 구성된 호주 질롱시 경제사절단을 초청해 교류협력을 강화한 바 있다.홍남표 시장은 “한화에어로스페이스 레드백 우선협상대상자 선정을 101만 시민과 함께 축하드린다”며 “지속적으로 관내 방산기업의 해외진출 지원에 앞장서겠다”고 밝혔다.\n",
      "\n",
      "한화, 弗 퐁피두센터와 63빌딩에 미술관 설립 https://n.news.naver.com/mnews/article/277/0005292860?sid=101\n",
      "\n",
      "\t\t\t한화그룹이 프랑스 퐁피두센터와 서울 미술관 설립에 나선다.한화는 27일 퐁피두센터와 '퐁피두센터 한화 서울' 설립 운영에 대한 본계약을 체결했다고 28일 밝혔다.한화는 3월19일 프랑스에서 퐁피두센터와 파트너십을 위한 양해각서를 체결, 63빌딩에 미술관을 건립해 운영하는 기본 내용에 합의한 바 있다. 이후 퐁피두센터 소장품 기획전시 방안과 퐁피두 센터 한화 서울 프로그램 운영을 위한 세부 사항을 협의, 이번에 최종 계약을 맺게 됐다.\n",
      "\n",
      "\n",
      "\n",
      "퐁피두센터 한화 서울 내부 설계안본계약 체결에 따라 한화는 63빌딩 별관 건물을 리모델링해 2025년 10월 미술관을 개관하고, 계약기간인 4년간 운영하게 된다.퐁피두센터가 소장한 20~21세기 미술사조를 대표하는 현대미술 대가들의 작품들을 중심으로 연간 2회 기획전시를 개최할 예정이다. 또 전시 외에도 다양한 분야에서 퐁피두센터의 지속적인 자문과 협력을 지원받게 된다.지난달 프랑스에서 열린 한불 양국 정상회담에서 에마뉘엘 마크롱 프랑스 대통령은 한화문화재단과 퐁피두센터의 파트너십을 양국 간 문화교류의 모범적인 사례로 언급하기도 했다.신현우 한화문화재단 이사장은 \"퐁피두센터 한화 서울 유치가 양국 간 문화협력의 상징적인 사업으로 많은 주목을 받는 만큼 모두에게 성공적인 사례가 될 수 있도록 노력하겠다\"며 \"수준 높은 세계의 걸작들과 동시대의 앞서가는 예술작품들을 지속적으로 선보이는 한편 국내 작가들의 성장을 돕는 글로벌 예술 플랫폼로서 역할도 고민할 것\"이라고 밝혔다.\n",
      "\n",
      "7월부터 안면인식 ‘스마트 패스’로 빠르고 편리하게 출국한다 https://n.news.naver.com/mnews/article/056/0011534432?sid=101\n",
      "\n",
      "\n",
      "\n",
      "\n",
      "\n",
      "인천국제공항공사가 국내 공항 최초로 안면인식 정보를 등록해 출국 절차를 밟는 '스마트 패스 서비스'를 시작합니다.  국토교통부와 인천국제공항공사는 28일(오늘) 오후 3시 인천국제공항 제2여객터미널에서 '스마트패스 서비스 오픈 기념식'을 개최한다고 밝혔습니다. 스마트패스 서비스는 첨단 안면인식 기술을 활용하여 여권이나 탑승권을 꺼낼 필요 없이 '안면인식' 정보를 등록해 출국 절차를 빠르게 밟을 수 있는 서비스입니다. 이달 중 일부 서비스를 시작하고, 오는 2025년 4월 전면 확대할 예정입니다. 그동안 인천공항 승객은 본인확인을 위해 신분증명서(여권)를 보안검색요원에게 매번 제시해야 했지만, 이 서비스를 이용하면 이러한 번거로움을 덜 수 있고 신분확인 시간도 단축될 전망입니다. 또, 사람의 생체정보는 고유한 특성 때문에 위변조･복제가 어렵다는 특성이 있어 항공보안 수준도 크게 높아질 것으로 예상됩니다.  스마트 패스 서비스를 이용하기 위해서는 본인의 안면인식 정보를 모바일앱 또는 공항의 셀프체크인 키오스크에서 서비스 이용 30분 전까지 등록 완료해야 합니다. 등록된 안면인식 정보는 최초 등록한 날로부터 5년간 이용할 수 있습니다.  한편, 등록된 안면인식 정보를 이용하더라도 반드시 여권과 탑승권을 소지해야 하며 출국장은 항공사와 무관하게 이용 가능하지만, 탑승게이트는 일부 참여 항공사만 가능합니다. 인천국제공항공사는 하계 성수기 기간 여행객을 대상으로 스마트패스 서비스 안내를 위한 홍보부스를 운영할 예정입니다. 인천국제공항공사 이학재 사장은 \"하계 성수기에 맞춰 스마트패스 서비스를 적기 도입함으로써 공항 혼잡완화에도 큰 도움이 될 것으로 기대한다\"며 \"앞으로도 첨단기술을 공항 서비스에 적극 도입해 여객 편의를 향상시켜 나가겠다\"고 말했습니다.  이날 기념식에는 백원국 국토교통부 2차관과 이학재 사장, 항공사 대표 등 20여 명이 참석합니다.[사진 출처 : 연합뉴스]■ 제보하기▷ 전화 : 02-781-1234, 4444▷ 이메일 : kbs1234@kbs.co.kr▷ 카카오톡 : 'KBS제보' 검색, 채널 추가▷ 네이버, 유튜브에서 KBS뉴스를 구독해주세요!\n",
      "\n",
      "[단독]용진이형이 구했다…이마트 '먹태깡' 1인 2봉지 한정 판매 https://n.news.naver.com/mnews/article/025/0003297248?sid=101\n",
      "\n",
      "  \n",
      "\n",
      "\n",
      "\n",
      "지난해 3월 서울의 한 이마트 점포에서 고객들이 개장 전부터 포켓몬빵을 구매하기 위해 긴 줄을 서고 있다. 뉴스1       농심이 지난달 선보인 스낵 신제품 ‘먹태깡’이 품귀 현상을 빚을 만큼 인기를 끄는 가운데 이마트에서 ‘1인 2봉지’ 한정 판매 행사를 한다.       28일 유통 업계에 따르면 이마트는 오늘 29~30일 이틀간 전국 132개 점포에서 먹태깡을 한 봉지(60g)에 1360원에 판매하는 행사를 진행한다. 약 2만 개 물량을 확보했으며 하루 1만 개 판매 예정인 것으로 알려졌다.      먹태깡은 지난달 26일 출시 이후 이달 24일까지 213만 봉지가 팔렸다. 하루에 7만3400봉지꼴이다. 온라인 ‘농심몰’에서 하루 200박스를 인당 4봉지로 한정 판매 중인데, 요즘 매일 판매 개시 직후 2분 안에 매진되고 있다. 정용진 신세계그룹 부회장은 먹태깡 출시 직후 자신의 소셜미디어(SNS)를 통해 “먹어보라”고 추천하기도 했다. 이어 야구장에서 먹태깡을 즐긴 사진을 올렸고, 캔맥주와 나란히 놓고 찍은 모습도 공개했다.        \n",
      "\n",
      "\n",
      "\n",
      "먹태깡을 홍보하는 이마트 홍보물. 사진 이마트      ━   포켓몬빵보다 더 하다…‘1인 2봉지’ 한정      이번 먹태깡 판매 행사에서도 매장 문을 열자마자 상품을 차지하려고 달려가는 ‘오픈런’이 예상된다. 지난해 3월 이마트가 SPC삼립포켓몬빵 행사를 할 때에는 당일 오전 2시부터 텐트를 치고 포켓몬빵을 사려고 기다리는 손님이 있었다. 당시에는 1인당 3봉지를 살 수 있었는데, 이번 먹태깡은 2봉지만 살 수 있어 경쟁이 더욱 치열할 것으로 보인다.       먹태깡은 2021년 농심 사내 공모전에서 대상을 받은 제품으로, 맥주 안주로 인기 있는 먹태와청양마요소스 조합을 스낵으로 즐길 수 있도록 해보자는 연구원들의 아이디어로 개발이 시작됐다. 농심은 부산공장에서 생산 중인 먹태깡의 생산량을 지난 10일부터 30% 늘렸다. 다음 달부터는 부산공장에서 생산하는 ‘양파링’ ‘자갈치’ 등 스낵 일부를 다른 공장으로 옮기고, 먹태깡에 집중해 생산량을 1.5배 이상으로 늘릴 계획이다. 이러면 하루 5만→7만5000봉지로 공급량이 늘어난다.      \n",
      "\n",
      "\n",
      "\n",
      "최근 정용진 신세계그룹 부회장이 올린 먹태깡 사진. 사진 스레드    \n",
      "\n",
      "[속보] 에코프로, 100만 원 붕괴…'황제주' 7일 만에 와르르 https://n.news.naver.com/mnews/article/088/0000827569?sid=101\n",
      "\n",
      "\n",
      "\n",
      "\n",
      "\n",
      "에코프로가 전 거래일 대비 11.91% 오른 111만8천원으로 거래를 마감한 18일 오후 서울 종로구 연합인포맥스 전광판에 에코프로 종가 현황이 표시되고 있다. 연합뉴스코스닥시장의 '2차전지 주도주' 에코프로가 27일 '황제주'(주당 100만원짜리 주식) 지위를 반납했다. 불과 하루 전 150만원 선을 돌파하고 사상 최고가를 경신했던 주가는 이날 100만원 밑으로 떨어졌다.에코프로는 이날 코스닥시장에서 전 거래일 종가(122만8000원)보다 19.79%(24만3000원) 급락한 98만5000원에 거래를 마쳤다. 시초가인 120만원은 이날 최고가였다. 장 후반으로 갈수록 낙폭을 늘린 주가는 결국 100만원 선 밑으로 내려갔고, 96만1000원까지 밀렸다. 마감 종가에서 100만원 선은 회복되지 않았다.에코프로는 지난 10일 장중 100만원 선을 터치해 코스닥시장 사상 5번째 '황제주'가 됐다. 지난 18일에는 마감 종가에서 100만원 선으로 안착했다. 이후 지난 26일까지 7거래일 동안 100만원 위에서 주가를 형성했지만 결국 '황제주' 지위를 빼앗기고 말았다.에코프로의 약세는 이미 지난 26일부터 나타났다. 130만3000원에서 출발한 주가는 오전 내내 강세를 유지해 153만9000원까지 치솟았지만, 같은 날 오후 1시쯤부터 매물을 쏟아내며 하락을 시작했다. 사실상 투매에 가까운 급락에 주가는 장중 113만6000원까지 밀렸다. 당일 마감 종가는 장중 고가 대비 20.2%나 폭락한 금액이다.에코프로는 2차전지 소재인 양극재를 생산하는 코스닥 시가총액 1위 에코프로비엠, 친환경 솔루션 업체 에코프로에이치엔을 자회사로 두고 있다. 에코프로는 코스닥 시총 2위다. 에코프로비엠도 이날 코스닥시장에서 17.25%(7만8500원) 급락한 37만6500원에 마감됐다.\n",
      "\n",
      "은행 대출금리 평균 5.17%로 0.05%P 올라…2개월 연속 상승 https://n.news.naver.com/mnews/article/025/0003297190?sid=101\n",
      "\n",
      "\t\t\t  은행권의 대출·예금금리가 2개월 연속 상승했다. 세계 주요국이 통화 긴축 기조를 강화하는 움직임을 보이자 시장금리가 오른 영향이다.      한국은행이 28일 발표한 금융기관 가중평균금리 통계를 보면 지난달 예금은행의 대출금리는 평균 연 5.17%로 전월 대비 0.05%포인트 상승했다(신규 취급액 기준). 가계대출 금리가 평균 연 4.81%로 0.02%포인트 내렸지만, 기업대출 금리가 평균 연 5.32%로 0.12%포인트 상승했기 때문이다.      \n",
      "\n",
      "\n",
      "\n",
      "지난 18일 경기도 수원의 한 은행에 주택담보대출 광고 현수막이 걸려 있다. 뉴스1           특히 가계대출은 일반신용대출 금리가 연 6.34%로 전월 대비 0.1%포인트 하락했고, 보증대출도 5.05%로 0.05%포인트 내렸다. 신용대출의 경우 최근 도입된 대환대출 플랫폼에서 금리 경쟁이 벌어지는 중이다.      반대로 주택담보대출은 연 4.26%로 0.05%포인트 상승 전환했다. 주담대 금리가 오른 것은 지난해 10월 이후 처음이다. 보증대출 중 전세자금대출은 4.14%로 0.05%포인트 상승했다.      지난달 예금은행의 저축성 수신(예금) 금리는 평균 연 3.69%로 한 달 전보다 0.13%포인트 상승했다(신규 취급액 기준). 지난달 저축성수신금리는 올 1월 3.83% 이후 가장 높은 수준이다.      정기예금과 같은 순수 저축성예금 금리는 연 3.65%로 전월보다 0.15%포인트 상승했다. 금융채 등 시장형 금융상품 금리도 0.12%포인트 상승해 3.83%이었다. 하반기 유동성 규제 비율 정상화를 앞두고 예금은행이 특판 정기예금을 내놓는 등 공격적으로 자금 확보에 나선 것이 영향을 미쳤다.      새마을금고 등 은행 외 금융회사의 예금금리는 상호저축은행(연 4.08%)만 상승했고, 신용협동조합(4.07%), 상호금융(3.74%), 새마을금고(4.23%)에서는 하락했다. 대출금리는 일제히 하락했다.  \n",
      "\n",
      "흰우유 원유 가격 10월부터 리터당 88원 인상 https://n.news.naver.com/mnews/article/055/0001076905?sid=101\n",
      "\n",
      "\t\t\t흰우유 원유 가격이 오는 10월부터 리터당 88원, 치즈나 연유 등에 쓰이는 가공유용 원유는 리터당 89원 인상됩니다.낙농진흥회는 \"흰우유 소비감소 등 낙농가와 유업계의 어려움을 모두 감안해 올해 인상폭을 결정했다\"고 밝혔습니다.정부는 그동안 우유 가격 인상이 커피나 아이스크림 등의 추가 가격 인상으로도 이어질 수 있어 인상 자제를 요청해 왔습니다.\n",
      "\t\t\n",
      "'백지화' 철회?‥원희룡 \"도로 최대한 빨리\" https://n.news.naver.com/mnews/article/214/0001289212?sid=101\n",
      "\n",
      "\n",
      "\n",
      "\n",
      "\n",
      "\n",
      "\n",
      "\n",
      "\n",
      "\n",
      "\n",
      "\n",
      "\n",
      "\n",
      "\n",
      "[뉴스투데이]◀ 앵커 ▶서울-양평 고속도로 백지화를 선언했던 원희룡 장관이 양평을 찾아 \"고속도로를 최대한 빨리 놓겠다\"고 약속했습니다.재개 조건으로 그동안 민주당의 사과를 요구해왔는데, 이번엔 오물이라는 표현을 썼습니다.박철현 기자입니다.◀ 리포트 ▶당초 서울-양평고속도로 '원안'의 종점으로 예정됐던 양평군 양서면 중부내륙고속도로 인근 마을.원희룡 국토부 장관은 주민들을 만나 고속도로 건설을 서두르겠다고 약속합니다. [원희룡/국토부 장관]\"양평 주민의 길잡이가 되도록 하겠습니다. 이게 제가 첫 번째 약속 드리는 거고요. 두 번째 고속도로 최대한 빨리 놓겠습니다.대안 노선의 종점으로 거론된 양평군 강상면을 찾아서도 신속한 사업 진행을 언급했습니다. [원희룡/국토부 장관]\"전문가와 진실과 국민의 힘으로 이 당당한 최선의 고속도로를 만들 수 있는 안을 양평 군민들과 함께 만들어서..\"다만 정부가 제시한 대안 노선이 더 적합하다는 점을 강조하면서 사업진행의 전제조건으로 야당의 사과와 태도 변화가 필요하다고 강조했습니다. [원희룡/국토부 장관]\"오물이 우리 고속도로가 가야 할 길 앞에 잔뜩 쌓여 있는 상황이 됐습니다. 그렇게 해서 길을 내려면요. 우선 오물을 치우고 길을 정하고 그 다음에 이제 길을 닦아야 되지 않습니까.\"주민들은 양평고속도로 노선 변경을 두고 한달 가까이 이어지는 정쟁에서 벗어나야 한다고 요구했습니다. [양평군 주민]\"주민들은 그래요. 국민의힘이든지 민주당이든지 다 필요 없어요. 제발 이렇게 하지 마시고 국민을 위해서 일해 주십시오.\"지난 5월 국토부는 서울-양평고속도로 건설에 필요한 기본·실시설계 비용 약 20억원을 내년도 예산안에 반영했습니다.두달 뒤 원 장관이 고속도로 건설 백지화를 전면 선언했지만 도로 건설에 필요한 절차는 진행 중입니다.MBC뉴스 박철현입니다.MBC 뉴스는 24시간 여러분의 제보를 기다립니다. ▷ 전화 02-784-4000▷ 이메일 mbcjebo@mbc.co.kr▷ 카카오톡 @mbc제보\n",
      "\n",
      "‘반도체 호조’에 제조업 재고 역대 최대폭 감소… 싹트는 경기 회복 기대감 https://n.news.naver.com/mnews/article/366/0000920515?sid=101\n",
      "\n",
      "5분기 만에 살아난 제조업 생산 반도체 재고 줄어들어… 반등 신호탄 “그간의 부진에서 벗어났다” 해석 나오지만 “경기 회복세라고 보기엔 시기상조” 지적도        부진을 면치 못했던 경기가 저점을 찍고 반등할 기미가 곳곳에서 포착되고 있다. 반도체 출하는 전월보다 41.1% 늘고 쌓였던 재고도 큰 폭으로 감소했다. 제조업 재고는 역대 최대폭으로 감소했다.분기별 제조업 생산은 5분기 만에 반등했다. 경기 흐름을 예측하는 선행 지수도 긍정적인 흐름을 이어가면서 하반기 경기 부진에 대한 우려가 다소 줄어드는 모양새다. 그러나 수출이 흔들리면 언제든 다시 경기가 고꾸라질 수 있다는 점과 내수가 강한 회복세를 보이지는 못하고 있다는 점을 볼 때 경기 회복을 낙관하기는 어렵다는 분석도 나온다.\n",
      "\n",
      "\n",
      "\n",
      "이재용 삼성전자 회장이 지난해 6월 네덜란드 ASML 본사를 찾아 피터 베닝크 CEO, 마틴 반 덴 브링크 CTO 등과 함께 반도체 장비를 점검하고 있다. /삼성전자 제공  반도체 호조에 5분기 만에 ‘상승세’ 전환        통계청이 28일 발표한 6월 산업활동동향에 따르면 반도체 생산은 전월보다 3.6% 증가했다. 반도체 생산은 4개월 연속 증가세를 이어가는 중이다. 김보경 통계청 경제동향통계심의관은 “고성능 D램 등의 출하 내지 수출이 증가하면서 생산이 늘었다”고 말했다.반도체 출하가 전월보다 41.1% 늘면서 반도체 재고는 12.3% 줄었다. 6월 반도체 수출 실적 개선에 따른 것이다. 6월 반도체 수출액은 89억 달러로 연중 최대 규모를 기록했다. 재고 감소는 중장기적으로 긍정적인 시그널로 해석할 수 있다. 재고를 털어내는 과정에서 당장 수익성이 떨어질 수 있지만, 재고를 팔아야 새로운 고부가가치 제품을 생산할 수 있기 때문이다.제조업 재고에 큰 비중을 차지하는 반도체의 출하가 늘면서 제조업 재고율은 전월보다 6.2% 감소했다. 1975년 재고지수 통계를 내기 시작한 이후 역대 최대 감소 폭이다. 다만 통계청은 지난 4월에 재고가 큰 폭으로 증가했던 것에 대한 기저효과가 있었다고 설명했다.제조업 생산은 증가세로 전환했다. 2분기 제조업 생산은 1분기보다 3.4% 늘어 지난해 1분기 이후 5분기 만에 증가세를 보였다. 반도체 생산이 전 분기보다 20.6% 늘어난 덕분이다.\n",
      "\n",
      "\n",
      "\n",
      "김보경 통계청 경제동향통계심의관이 28일 오전 세종시 정부세종청사 중앙동에서 2023년 6월 산업활동동향을 발표하고 있다. /뉴스1  두 달 연속 ‘트리플 증가’했지만… “보합 수준” 지적도        일각에서는 전산업 생산과 소매 판매, 투자 지표가 2개월 연속 ‘트리플 증가’한 것을 경기 개선의 신호로 해석하기도 한다. 세 지표가 2개월 연속 상승한 것은 2018년 1∼2월 이후 5년 4개월 만에 처음이다.경기를 전망하는 지표도 긍정적인 신호를 주고 있다. 경기선행지수 순환변동치는 0.3포인트 올라 두 달 연속 상승세를 이어갔다. 다만, 현재 경기를 나타내는 동행지수 순환변동치는 전달보다 0.2포인트 하락했다.정부는 경기 부진에서 벗어나고 있다고 평가했다. 방기선 기획재정부 1차관은 이날 정부서울청사에서 주재한 비상경제차관회의 모두발언에서 “6월 산업활동동향에서 경제의 바로미터라고 할 수 있는 제조업 생산이 5개 분기 만에 플러스로 전환했는데, 그간의 부진에서 벗어났다는 점에서 의미가 있다”고 말했다.다만 경기 회복을 낙관하기는 이르다는 시각도 있다. 산업생산 증가 폭이 매우 작고 설비투자 증가 폭도 크지 않기 때문이다. 김 심의관은 “선행지수 등에서 경기가 조금 개선된 흐름을 보이고 있지만, 분기 말이라는 특수 요인도 있어 더 지켜봐야 판단을 내릴 수 있을 것 같다”고 말했다.유혜미 한양대 경제금융대학 교수는 “반도체 수출이 전체적인 지표 상승세를 견인했지만, 소비나 투자 지표는 보합 수준”이라며 “고금리로 내수 회복에 어려움을 겪는 만큼 경기 회복세로 접어들었다고 평가하기는 시기상조”라고 말했다.\n",
      "\n"
     ]
    }
   ],
   "source": [
    "url='https://news.naver.com/main/main.naver?mode=LSD&mid=shm&sid1=101'\n",
    "# 기본 세 줄을 붙여 넣으면 soup가 생성됩니다. \n",
    "headers = {\"User-Agent\":'Mozilla/5.0 (Windows NT 10.0; Win64; x64) AppleWebKit/537.36 (KHTML, like Gecko) Chrome/80.0.3987.87 Safari/537.36'}\n",
    "res = requests.get(url, headers = headers)\n",
    "soup = BeautifulSoup(res.text, 'lxml')  \n",
    "\n",
    "#def로 url을 입력하면 soup를 생성하는 함수 만들기 \n",
    "def soupMaker(url):\n",
    "    headers = {\"User-Agent\":'Mozilla/5.0 (Windows NT 10.0; Win64; x64) AppleWebKit/537.36 (KHTML, like Gecko) Chrome/80.0.3987.87 Safari/537.36'}\n",
    "    res = requests.get(url, headers = headers)\n",
    "    return BeautifulSoup(res.text, 'lxml') \n",
    "    \n",
    "soup = soupMaker(url)\n",
    "\n",
    "# 특정 클래스 속성을 출력하기\n",
    "for i in soup.find_all('div', {\"class\" : \"sh_text\"})[:10]:\n",
    "    # 링크로 연결된 a태그의 텍스트 찾기\n",
    "    url2 = i.find('a').get('href') #링크 주소 찾기 \n",
    "    print(i.find('a').text, url2) \n",
    "    # 주소 얻기 \n",
    "    soup2 = soupMaker(url2)\n",
    "    for j in soup2.find_all('div', {\"id\" : \"dic_area\"}):\n",
    "        print(j.text)"
   ]
  },
  {
   "cell_type": "markdown",
   "id": "09710dc0",
   "metadata": {},
   "source": [
    "## 손익계산서 API 활용\n",
    "1. 필요한 정보가 무엇인지 확인하기: *ex: 법인등록번호*\n",
    "2. 필요한 정보를 찾아서 새로운 정보 구하기\n",
    "3. 예시 url: 셀트리온\n",
    "\n",
    "https://apis.data.go.kr/1160100/service/GetFinaStatInfoService_V2/getIncoStat_V2?serviceKey=7JlKxM7fEbOErQRa32MtR3%2Fg%2FBxi3JTPbwPfCw781Ma4uvwql5x2r2wM0Zh051RRUK%2Bw7YSwijxr0Tklej3cOg%3D%3D&numOfRows=1&pageNo=1&resultType=xml&bizYear=2022&crno=1350110034038\n"
   ]
  },
  {
   "cell_type": "code",
   "execution_count": 55,
   "id": "50808888",
   "metadata": {},
   "outputs": [],
   "source": [
    "crnos = {\n",
    "'삼성전자':'1301110006246',\n",
    "'네이버':'1101111707178',\n",
    "'LG전자':'1101112487050',\n",
    "'카카오':'1101111129497',\n",
    "'셀트리온':'1350110034038'}\n",
    "\n",
    "# 내 서비스키를 이용해서 만든 예제 코드 \n",
    "url = 'https://apis.data.go.kr/1160100/service/GetFinaStatInfoService_V2/getIncoStat_V2?serviceKey=7JlKxM7fEbOErQRa32MtR3%2Fg%2FBxi3JTPbwPfCw781Ma4uvwql5x2r2wM0Zh051RRUK%2Bw7YSwijxr0Tklej3cOg%3D%3D&numOfRows=1&pageNo=1&resultType=xml&bizYear=2022&crno='\n",
    "url_sam = 'https://apis.data.go.kr/1160100/service/GetFinaStatInfoService_V2/getIncoStat_V2?serviceKey=7JlKxM7fEbOErQRa32MtR3%2Fg%2FBxi3JTPbwPfCw781Ma4uvwql5x2r2wM0Zh051RRUK%2Bw7YSwijxr0Tklej3cOg%3D%3D&numOfRows=1&pageNo=1&resultType=xml&bizYear=2022&crno=1350110034038'\n",
    "#def로 url을 입력하면 soup를 생성하는 함수 만들기 \n",
    "def soupMaker(url):\n",
    "    headers = {\"User-Agent\":'Mozilla/5.0 (Windows NT 10.0; Win64; x64) AppleWebKit/537.36 (KHTML, like Gecko) Chrome/80.0.3987.87 Safari/537.36'}\n",
    "    res = requests.get(url, headers = headers)\n",
    "    return BeautifulSoup(res.text, 'lxml') \n",
    "#삼성전자 개별주식으로 실험    \n",
    "soup = soupMaker(url_sam)"
   ]
  },
  {
   "cell_type": "markdown",
   "id": "4599a1f2",
   "metadata": {},
   "source": [
    "## 원하는 데이터 찾기 find('태그명')"
   ]
  },
  {
   "cell_type": "code",
   "execution_count": 60,
   "id": "f2650116",
   "metadata": {},
   "outputs": [
    {
     "name": "stdout",
     "output_type": "stream",
     "text": [
      "영업이익\n",
      "722339893641\n",
      "647198174586\n"
     ]
    }
   ],
   "source": [
    "#영업이익 영업손실여부\n",
    "print(soup.find('acitnm').text)\n",
    "#당기\n",
    "print(soup.find('bpvtracitamt').text)\n",
    "#전기\n",
    "print(soup.find('crtmacitamt').text)"
   ]
  }
 ],
 "metadata": {
  "kernelspec": {
   "display_name": "Python 3 (ipykernel)",
   "language": "python",
   "name": "python3"
  },
  "language_info": {
   "codemirror_mode": {
    "name": "ipython",
    "version": 3
   },
   "file_extension": ".py",
   "mimetype": "text/x-python",
   "name": "python",
   "nbconvert_exporter": "python",
   "pygments_lexer": "ipython3",
   "version": "3.11.3"
  }
 },
 "nbformat": 4,
 "nbformat_minor": 5
}
