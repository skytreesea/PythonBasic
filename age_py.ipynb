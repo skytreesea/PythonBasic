    {
      "cell_type": "markdown",
      "metadata": {
        "id": "4_lIG-j0lRkX"
      },
      "source": [
        "이제 다음과 같이 해봅니다. \r\n"
      ]
    },
    {
      "cell_type": "code",
      "metadata": {
        "id": "JiSuz4f-lUY6",
        "outputId": "0de3ce9a-ae56-47b5-d9d0-a1df7973c793",
        "colab": {
          "base_uri": "https://localhost:8080/"
        }
      },
      "source": [
        "value = input(\"고향을 입력하세요\")\r\n",
        "print(value + \"사람이시군요\")"
      ],
      "execution_count": 4,
      "outputs": [
        {
          "output_type": "stream",
          "text": [
            "고향을 입력하세요서울\n",
            "서울사람이시군요\n"
          ],
          "name": "stdout"
        }
      ]
    },
    {
      "cell_type": "code",
      "metadata": {
        "id": "P4Z80Ywclls6",
        "outputId": "4c6ac2fe-279b-48a2-d781-344645f734c8",
        "colab": {
          "base_uri": "https://localhost:8080/"
        }
      },
      "source": [
        "age = input(\"나이를 입력하세요\")\r\n",
        "my_age = 40\r\n",
        "if int(age) > my_age:\r\n",
        "    print(str(age)+'살이시군요. 저보다 %s살 많네요'% str(int(age) - my_age))\r\n",
        "# 여기서 elif를 쓸 때와 안 쓸 때의 차이를 눈여겨 보세요. \r\n",
        "elif int(age) <= my_age:\r\n",
        "    print(str(age)+'살이시군요. 제가 %s살 많네요'% str(my_age - int(age)))\r\n",
        "else:\r\n",
        "    print(\"뭔가 값이 잘못 입력됐네요.\")"
      ],
      "execution_count": 15,
      "outputs": [
        {
          "output_type": "stream",
          "text": [
            "나이를 입력하세요33\n",
            "33살이시군요. 제가 7살 많네요\n"
          ],
          "name": "stdout"
        }
      ]
    }
  ]
}
