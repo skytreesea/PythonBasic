{
  "nbformat": 4,
  "nbformat_minor": 0,
  "metadata": {
    "colab": {
      "name": "Untitled0.ipynb",
      "provenance": [],
      "collapsed_sections": [],
      "authorship_tag": "ABX9TyMdtS3f1MkdH1+oXMq81S9I",
      "include_colab_link": true
    },
    "kernelspec": {
      "name": "python3",
      "display_name": "Python 3"
    }
  },
  "cells": [
    {
      "cell_type": "markdown",
      "metadata": {
        "id": "view-in-github",
        "colab_type": "text"
      },
      "source": [
        "<a href=\"https://colab.research.google.com/github/skytreesea/PythonBasic/blob/master/age_py.ipynb\" target=\"_parent\"><img src=\"https://colab.research.google.com/assets/colab-badge.svg\" alt=\"Open In Colab\"/></a>"
      ]
    },
    {
      "cell_type": "code",
      "metadata": {
        "id": "pmPxVQkbILXx"
      },
      "source": [
        "for i in range(10):\r\n",
        "  print(i)"
      ],
      "execution_count": null,
      "outputs": []
    },
    {
      "cell_type": "code",
      "metadata": {
        "id": "l7bmN0w4kzS2"
      },
      "source": [
        ""
      ],
      "execution_count": null,
      "outputs": []
    },
    {
      "cell_type": "markdown",
      "metadata": {
        "id": "xNLUmFFuk0Sg"
      },
      "source": [
        ""
      ]
    },
    {
      "cell_type": "code",
      "metadata": {
        "id": "sg9UzcXqk0o9",
        "outputId": "1ede5c8e-fed8-40bd-b16c-261d139843f0",
        "colab": {
          "base_uri": "https://localhost:8080/"
        }
      },
      "source": [
        "for i in range(10):\r\n",
        "  print(i)\r\n"
      ],
      "execution_count": 3,
      "outputs": [
        {
          "output_type": "stream",
          "text": [
            "0\n",
            "1\n",
            "2\n",
            "3\n",
            "4\n",
            "5\n",
            "6\n",
            "7\n",
            "8\n",
            "9\n"
          ],
          "name": "stdout"
        }
      ]
    },
    {
      "cell_type": "markdown",
      "metadata": {
        "id": "4_lIG-j0lRkX"
      },
      "source": [
        "이제 다음과 같이 해봅니다. \r\n"
      ]
    },
    {
      "cell_type": "code",
      "metadata": {
        "id": "JiSuz4f-lUY6",
        "outputId": "0de3ce9a-ae56-47b5-d9d0-a1df7973c793",
        "colab": {
          "base_uri": "https://localhost:8080/"
        }
      },
      "source": [
        "value = input(\"고향을 입력하세요\")\r\n",
        "print(value + \"사람이시군요\")"
      ],
      "execution_count": 4,
      "outputs": [
        {
          "output_type": "stream",
          "text": [
            "고향을 입력하세요서울\n",
            "서울사람이시군요\n"
          ],
          "name": "stdout"
        }
      ]
    },
    {
      "cell_type": "code",
      "metadata": {
        "id": "P4Z80Ywclls6",
        "outputId": "4c6ac2fe-279b-48a2-d781-344645f734c8",
        "colab": {
          "base_uri": "https://localhost:8080/"
        }
      },
      "source": [
        "age = input(\"나이를 입력하세요\")\r\n",
        "my_age = 40\r\n",
        "if int(age) > my_age:\r\n",
        "    print(str(age)+'살이시군요. 저보다 %s살 많네요'% str(int(age) - my_age))\r\n",
        "# 여기서 elif를 쓸 때와 안 쓸 때의 차이를 눈여겨 보세요. \r\n",
        "elif int(age) <= my_age:\r\n",
        "    print(str(age)+'살이시군요. 제가 %s살 많네요'% str(my_age - int(age)))\r\n",
        "else:\r\n",
        "    print(\"뭔가 값이 잘못 입력됐네요.\")"
      ],
      "execution_count": 15,
      "outputs": [
        {
          "output_type": "stream",
          "text": [
            "나이를 입력하세요33\n",
            "33살이시군요. 제가 7살 많네요\n"
          ],
          "name": "stdout"
        }
      ]
    }
  ]
}