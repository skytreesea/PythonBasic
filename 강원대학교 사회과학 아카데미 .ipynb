{
 "cells": [
  {
   "cell_type": "code",
   "execution_count": 4,
   "id": "3e89ad8b",
   "metadata": {},
   "outputs": [
    {
     "name": "stdout",
     "output_type": "stream",
     "text": [
      "hello world\n"
     ]
    }
   ],
   "source": [
    "print('hello world')"
   ]
  },
  {
   "cell_type": "code",
   "execution_count": 5,
   "id": "5268aba0",
   "metadata": {},
   "outputs": [
    {
     "data": {
      "text/plain": [
       "50.0"
      ]
     },
     "execution_count": 5,
     "metadata": {},
     "output_type": "execute_result"
    }
   ],
   "source": [
    "150/3"
   ]
  },
  {
   "cell_type": "code",
   "execution_count": 7,
   "id": "48f69d0c",
   "metadata": {},
   "outputs": [],
   "source": [
    "a= 1\n",
    "b = \"사람\""
   ]
  },
  {
   "cell_type": "code",
   "execution_count": 9,
   "id": "912929e8",
   "metadata": {},
   "outputs": [
    {
     "data": {
      "text/plain": [
       "int"
      ]
     },
     "execution_count": 9,
     "metadata": {},
     "output_type": "execute_result"
    }
   ],
   "source": [
    "type(a) #int 정수형"
   ]
  },
  {
   "cell_type": "code",
   "execution_count": 12,
   "id": "7a7a7efd",
   "metadata": {},
   "outputs": [
    {
     "data": {
      "text/plain": [
       "str"
      ]
     },
     "execution_count": 12,
     "metadata": {},
     "output_type": "execute_result"
    }
   ],
   "source": [
    "type(b) #문자형 string"
   ]
  },
  {
   "cell_type": "code",
   "execution_count": 15,
   "id": "28cd20a6",
   "metadata": {},
   "outputs": [
    {
     "data": {
      "text/plain": [
       "int"
      ]
     },
     "execution_count": 15,
     "metadata": {},
     "output_type": "execute_result"
    }
   ],
   "source": [
    "type(int('123'))"
   ]
  },
  {
   "cell_type": "code",
   "execution_count": 17,
   "id": "f7987ee1",
   "metadata": {},
   "outputs": [
    {
     "data": {
      "text/plain": [
       "float"
      ]
     },
     "execution_count": 17,
     "metadata": {},
     "output_type": "execute_result"
    }
   ],
   "source": [
    "type(1.12)"
   ]
  },
  {
   "cell_type": "code",
   "execution_count": 26,
   "id": "230a3de2",
   "metadata": {},
   "outputs": [
    {
     "data": {
      "text/plain": [
       "1"
      ]
     },
     "execution_count": 26,
     "metadata": {},
     "output_type": "execute_result"
    }
   ],
   "source": [
    "a= 100\n",
    "b = 104\n",
    "b//a"
   ]
  },
  {
   "cell_type": "code",
   "execution_count": 27,
   "id": "cdb4718f",
   "metadata": {},
   "outputs": [
    {
     "name": "stdout",
     "output_type": "stream",
     "text": [
      "Python is fun\n"
     ]
    }
   ],
   "source": [
    "c = 'Python is fun'\n",
    "print(c)"
   ]
  },
  {
   "cell_type": "code",
   "execution_count": 36,
   "id": "b2b5e6a2",
   "metadata": {},
   "outputs": [],
   "source": [
    "d='''위와 같은 문자열을 food 변수에 저장하고 싶다고 가정해 보자. 문자열 중 Python's에 작은따옴표(')가 포함되어 있다.\n",
    "\n",
    "이 경우에는 문자열을 큰따옴표로 둘러싸야 한다. 큰따옴표 안에 들어 있는 작은따옴표는 문자열을 나타내기 위한 기호로 인식되지 않는다. 대화형 인터프리터를 열고 다음과 같이 입력해 보자.'''"
   ]
  },
  {
   "cell_type": "code",
   "execution_count": 43,
   "id": "4fd8e516",
   "metadata": {},
   "outputs": [
    {
     "data": {
      "text/plain": [
       "\" food 변수에 저장하고 싶다고 가정해 보자. 문자열 중 Python's에 작은따옴표(')가 포함되어 있다.\\n\\n이 경우에는 문자열을 큰따옴표로 둘러싸야 한다. 큰따옴표 안에 들어 있는 작은따옴표는 문자열을 나타내기 위한 기호로 인식되지 않는다. 대화형 인터프리\""
      ]
     },
     "execution_count": 43,
     "metadata": {},
     "output_type": "execute_result"
    }
   ],
   "source": [
    "d[10:-20]"
   ]
  },
  {
   "cell_type": "code",
   "execution_count": 48,
   "id": "d710714c",
   "metadata": {},
   "outputs": [
    {
     "name": "stdout",
     "output_type": "stream",
     "text": [
      "나는 집에 가고 싶다. \n",
      "나는 배가 고프다.\n"
     ]
    }
   ],
   "source": [
    "print('나는 집에 가고 싶다. \\n나는 배가 고프다.')"
   ]
  },
  {
   "cell_type": "code",
   "execution_count": 56,
   "id": "271700b9",
   "metadata": {},
   "outputs": [
    {
     "name": "stdout",
     "output_type": "stream",
     "text": [
      "내 나이는 23\n"
     ]
    }
   ],
   "source": [
    "age = 23\n",
    "print(\"내 나이는 \" + str(age))"
   ]
  },
  {
   "cell_type": "code",
   "execution_count": 58,
   "id": "f6914d27",
   "metadata": {},
   "outputs": [
    {
     "data": {
      "text/plain": [
       "176"
      ]
     },
     "execution_count": 58,
     "metadata": {},
     "output_type": "execute_result"
    }
   ],
   "source": [
    "len(d) #length"
   ]
  },
  {
   "cell_type": "code",
   "execution_count": 62,
   "id": "c58ef7bf",
   "metadata": {},
   "outputs": [
    {
     "data": {
      "text/plain": [
       "'20230331'"
      ]
     },
     "execution_count": 62,
     "metadata": {},
     "output_type": "execute_result"
    }
   ],
   "source": [
    "a = \"20230331Rainy\"\n",
    "a[:-5]"
   ]
  },
  {
   "cell_type": "code",
   "execution_count": 63,
   "id": "15a3a0ce",
   "metadata": {},
   "outputs": [
    {
     "name": "stdout",
     "output_type": "stream",
     "text": [
      "내 나이는 23\n"
     ]
    }
   ],
   "source": [
    "age = 23\n",
    "print(f\"내 나이는 {age}\") # 포매팅"
   ]
  },
  {
   "cell_type": "code",
   "execution_count": 66,
   "id": "9a5a26e5",
   "metadata": {},
   "outputs": [
    {
     "name": "stdout",
     "output_type": "stream",
     "text": [
      "내 나이는 23살입니다\n",
      "내 나이는 40살입니다\n",
      "내 나이는 50살입니다\n",
      "내 나이는 70살입니다\n"
     ]
    }
   ],
   "source": [
    "ages = [23, 40, 50, 70]\n",
    "for i in ages:\n",
    "    print(f\"내 나이는 {i}살입니다\") # 앞에 f를 붙이면 포매팅이 된다 "
   ]
  },
  {
   "cell_type": "code",
   "execution_count": 85,
   "id": "57e409a6",
   "metadata": {},
   "outputs": [
    {
     "name": "stdout",
     "output_type": "stream",
     "text": [
      "[1, 3, 5, 7, 9] []\n"
     ]
    }
   ],
   "source": [
    "odd = [1, 3, 5, 7, 9]\n",
    "a_list = []\n",
    "print(odd, a_list)"
   ]
  },
  {
   "cell_type": "code",
   "execution_count": 80,
   "id": "bc04667b",
   "metadata": {},
   "outputs": [
    {
     "data": {
      "text/plain": [
       "[40, 50]"
      ]
     },
     "execution_count": 80,
     "metadata": {},
     "output_type": "execute_result"
    }
   ],
   "source": [
    "ages = [23, 40, 50, 70]\n",
    "ages[1:-1]"
   ]
  },
  {
   "cell_type": "code",
   "execution_count": 83,
   "id": "3f3de21b",
   "metadata": {},
   "outputs": [
    {
     "data": {
      "text/plain": [
       "93"
      ]
     },
     "execution_count": 83,
     "metadata": {},
     "output_type": "execute_result"
    }
   ],
   "source": [
    "ages[0] + ages[-1]"
   ]
  },
  {
   "cell_type": "code",
   "execution_count": 91,
   "id": "79fe59df",
   "metadata": {},
   "outputs": [
    {
     "data": {
      "text/plain": [
       "4"
      ]
     },
     "execution_count": 91,
     "metadata": {},
     "output_type": "execute_result"
    }
   ],
   "source": [
    "len(ages)"
   ]
  },
  {
   "cell_type": "code",
   "execution_count": 109,
   "id": "a3a0b330",
   "metadata": {},
   "outputs": [
    {
     "data": {
      "text/plain": [
       "[70, 50, 23, 40]"
      ]
     },
     "execution_count": 109,
     "metadata": {},
     "output_type": "execute_result"
    }
   ],
   "source": [
    "ages = [40,23,  50, 70]\n",
    "ages.reverse()\n",
    "ages"
   ]
  },
  {
   "cell_type": "code",
   "execution_count": 111,
   "id": "53c9b21e",
   "metadata": {},
   "outputs": [
    {
     "data": {
      "text/plain": [
       "40"
      ]
     },
     "execution_count": 111,
     "metadata": {},
     "output_type": "execute_result"
    }
   ],
   "source": [
    "ages.pop()"
   ]
  },
  {
   "cell_type": "code",
   "execution_count": 112,
   "id": "c203beff",
   "metadata": {},
   "outputs": [
    {
     "data": {
      "text/plain": [
       "[70, 50, 23]"
      ]
     },
     "execution_count": 112,
     "metadata": {},
     "output_type": "execute_result"
    }
   ],
   "source": [
    "ages"
   ]
  }
 ],
 "metadata": {
  "kernelspec": {
   "display_name": "Python 3 (ipykernel)",
   "language": "python",
   "name": "python3"
  },
  "language_info": {
   "codemirror_mode": {
    "name": "ipython",
    "version": 3
   },
   "file_extension": ".py",
   "mimetype": "text/x-python",
   "name": "python",
   "nbconvert_exporter": "python",
   "pygments_lexer": "ipython3",
   "version": "3.10.9"
  }
 },
 "nbformat": 4,
 "nbformat_minor": 5
}
